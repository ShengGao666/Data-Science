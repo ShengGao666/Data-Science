{
 "cells": [
  {
   "cell_type": "markdown",
   "metadata": {
    "colab_type": "text",
    "id": "n0y5UTC4ttIU"
   },
   "source": [
    "## **DATA CLEANING**"
   ]
  },
  {
   "cell_type": "code",
   "execution_count": 2,
   "metadata": {
    "colab": {
     "base_uri": "https://localhost:8080/",
     "height": 52
    },
    "colab_type": "code",
    "id": "NQNl3ydBcZrw",
    "outputId": "22cab2b7-d25e-4f06-f366-e342bebc8d5b"
   },
   "outputs": [
    {
     "name": "stdout",
     "output_type": "stream",
     "text": [
      "[nltk_data] Downloading package stopwords to /root/nltk_data...\n",
      "[nltk_data]   Unzipping corpora/stopwords.zip.\n"
     ]
    }
   ],
   "source": [
    "import pandas as pd\n",
    "import numpy as np\n",
    "import re\n",
    "import html\n",
    "import nltk\n",
    "nltk.download(\"stopwords\")\n",
    "from nltk.corpus import stopwords\n",
    "from nltk.tokenize import RegexpTokenizer\n",
    "from nltk.stem import PorterStemmer\n",
    "import string\n",
    "from string import punctuation\n",
    "import matplotlib.pyplot as plt\n",
    "from sklearn.feature_extraction.text import CountVectorizer\n",
    "from sklearn.feature_extraction.text import TfidfVectorizer\n",
    "from sklearn.model_selection import train_test_split\n",
    "from sklearn.metrics import confusion_matrix\n",
    "from sklearn.model_selection import GridSearchCV\n",
    "from sklearn.naive_bayes import MultinomialNB\n",
    "from sklearn.linear_model import LogisticRegression\n",
    "from sklearn.model_selection import cross_val_score\n",
    "from sklearn.neighbors import KNeighborsClassifier\n",
    "from sklearn.tree import DecisionTreeClassifier\n",
    "from sklearn.ensemble import RandomForestClassifier\n",
    "from sklearn.svm import SVC\n",
    "import seaborn as sns\n",
    "df_ce = pd.read_csv(\"Canadian_elections_2019.csv\")\n",
    "df_s = pd.read_csv(\"Sentiment.csv\")"
   ]
  },
  {
   "cell_type": "markdown",
   "metadata": {
    "colab_type": "text",
    "id": "UdwrJomjY11m"
   },
   "source": [
    "######**Checking missing values in Canadian_elections.csv**"
   ]
  },
  {
   "cell_type": "code",
   "execution_count": 3,
   "metadata": {
    "colab": {
     "base_uri": "https://localhost:8080/",
     "height": 87
    },
    "colab_type": "code",
    "id": "it4DFzFXXKZt",
    "outputId": "b296ca64-9684-42d4-d2d1-be5fdd2cb35d"
   },
   "outputs": [
    {
     "data": {
      "text/plain": [
       "sentiment          0\n",
       "negative_reason    0\n",
       "text               0\n",
       "dtype: int64"
      ]
     },
     "execution_count": 3,
     "metadata": {
      "tags": []
     },
     "output_type": "execute_result"
    }
   ],
   "source": [
    "# make sure that there is no missing value in negative sentiment, since it is reasonable to have missing values in positive sentiment.\n",
    "df_ce_neg = df_ce[df_ce['sentiment']=='Negative']\n",
    "df_ce_neg.apply(lambda x: sum(x.isnull().values), axis = 0)\n"
   ]
  },
  {
   "cell_type": "code",
   "execution_count": 4,
   "metadata": {
    "colab": {
     "base_uri": "https://localhost:8080/",
     "height": 87
    },
    "colab_type": "code",
    "id": "DFI5m41-iWbo",
    "outputId": "9eacd123-864b-4ab2-def3-65505e4a0763"
   },
   "outputs": [
    {
     "data": {
      "text/plain": [
       "sentiment             0\n",
       "negative_reason    1126\n",
       "text                  0\n",
       "dtype: int64"
      ]
     },
     "execution_count": 4,
     "metadata": {
      "tags": []
     },
     "output_type": "execute_result"
    }
   ],
   "source": [
    "# Missing values of positive sentiment only exist in negative_reason, which is reasonable.\n",
    "df_ce_neg = df_ce[df_ce['sentiment']=='Positive']\n",
    "df_ce_neg.apply(lambda x: sum(x.isnull().values), axis = 0)"
   ]
  },
  {
   "cell_type": "markdown",
   "metadata": {
    "colab_type": "text",
    "id": "BrWow1vvi35c"
   },
   "source": [
    "###### **In conclusion, there is No missing value.**"
   ]
  },
  {
   "cell_type": "markdown",
   "metadata": {
    "colab_type": "text",
    "id": "KpNq4dLGZFE3"
   },
   "source": [
    "######**Checking missing values in Sentiment.csv**"
   ]
  },
  {
   "cell_type": "code",
   "execution_count": 5,
   "metadata": {
    "colab": {
     "base_uri": "https://localhost:8080/",
     "height": 424
    },
    "colab_type": "code",
    "id": "efwYM47Deo_G",
    "outputId": "eeabd30a-6631-41d6-d8c7-46d5ad3e3f46"
   },
   "outputs": [
    {
     "name": "stdout",
     "output_type": "stream",
     "text": [
      "text has 0.010462518029160532 percents of missinng values\n"
     ]
    },
    {
     "data": {
      "text/html": [
       "<div>\n",
       "<style scoped>\n",
       "    .dataframe tbody tr th:only-of-type {\n",
       "        vertical-align: middle;\n",
       "    }\n",
       "\n",
       "    .dataframe tbody tr th {\n",
       "        vertical-align: top;\n",
       "    }\n",
       "\n",
       "    .dataframe thead th {\n",
       "        text-align: right;\n",
       "    }\n",
       "</style>\n",
       "<table border=\"1\" class=\"dataframe\">\n",
       "  <thead>\n",
       "    <tr style=\"text-align: right;\">\n",
       "      <th></th>\n",
       "      <th>sentiment</th>\n",
       "      <th>text</th>\n",
       "    </tr>\n",
       "  </thead>\n",
       "  <tbody>\n",
       "    <tr>\n",
       "      <th>0</th>\n",
       "      <td>Positive</td>\n",
       "      <td>RT @Diplomtc_Immnty: @realDonaldTrump They tri...</td>\n",
       "    </tr>\n",
       "    <tr>\n",
       "      <th>1</th>\n",
       "      <td>Negative</td>\n",
       "      <td>@chiefy74 Damn i'm jealous, i wanna watch the ...</td>\n",
       "    </tr>\n",
       "    <tr>\n",
       "      <th>2</th>\n",
       "      <td>Positive</td>\n",
       "      <td>I'm listening The Beatles now. They're great</td>\n",
       "    </tr>\n",
       "    <tr>\n",
       "      <th>3</th>\n",
       "      <td>Positive</td>\n",
       "      <td>@ddlovato could i please get a shout out or an...</td>\n",
       "    </tr>\n",
       "    <tr>\n",
       "      <th>4</th>\n",
       "      <td>Positive</td>\n",
       "      <td>@salspizza just spotted ur message there Tony ...</td>\n",
       "    </tr>\n",
       "    <tr>\n",
       "      <th>...</th>\n",
       "      <td>...</td>\n",
       "      <td>...</td>\n",
       "    </tr>\n",
       "    <tr>\n",
       "      <th>133806</th>\n",
       "      <td>Positive</td>\n",
       "      <td>@scottw Nice, I have the 20/20 but to be hones...</td>\n",
       "    </tr>\n",
       "    <tr>\n",
       "      <th>133807</th>\n",
       "      <td>Positive</td>\n",
       "      <td>â€œ@BW_React: #GOPDebate verdict: @JohnKasich ...</td>\n",
       "    </tr>\n",
       "    <tr>\n",
       "      <th>133808</th>\n",
       "      <td>Negative</td>\n",
       "      <td>@amtrack  i am sorry .... i love you tho and t...</td>\n",
       "    </tr>\n",
       "    <tr>\n",
       "      <th>133809</th>\n",
       "      <td>Positive</td>\n",
       "      <td>@RazorTV http://tinyurl.com/d96txo - Champions...</td>\n",
       "    </tr>\n",
       "    <tr>\n",
       "      <th>133810</th>\n",
       "      <td>Negative</td>\n",
       "      <td>Beautiful day, and I'm on my way to the office...</td>\n",
       "    </tr>\n",
       "  </tbody>\n",
       "</table>\n",
       "<p>133797 rows × 2 columns</p>\n",
       "</div>"
      ],
      "text/plain": [
       "       sentiment                                               text\n",
       "0       Positive  RT @Diplomtc_Immnty: @realDonaldTrump They tri...\n",
       "1       Negative  @chiefy74 Damn i'm jealous, i wanna watch the ...\n",
       "2       Positive      I'm listening The Beatles now. They're great \n",
       "3       Positive  @ddlovato could i please get a shout out or an...\n",
       "4       Positive  @salspizza just spotted ur message there Tony ...\n",
       "...          ...                                                ...\n",
       "133806  Positive  @scottw Nice, I have the 20/20 but to be hones...\n",
       "133807  Positive  â€œ@BW_React: #GOPDebate verdict: @JohnKasich ...\n",
       "133808  Negative  @amtrack  i am sorry .... i love you tho and t...\n",
       "133809  Positive  @RazorTV http://tinyurl.com/d96txo - Champions...\n",
       "133810  Negative  Beautiful day, and I'm on my way to the office...\n",
       "\n",
       "[133797 rows x 2 columns]"
      ]
     },
     "execution_count": 5,
     "metadata": {
      "tags": []
     },
     "output_type": "execute_result"
    }
   ],
   "source": [
    "for i in range(len(df_s.columns)):\n",
    "      if 100*(df_s[df_s.columns[i]].isna().sum()/len(df_s[df_s.columns[i]])) > 0:\n",
    "          print(df_s.columns[i], \"has\", 100*df_s[df_s.columns[i]].isna().sum()/len(df_s[df_s.columns[i]]), \"percents of missinng values\")\n",
    "\n",
    "df_s = df_s.dropna(subset=['text']) # drop the rows with missing values.\n",
    "df_s"
   ]
  },
  {
   "cell_type": "markdown",
   "metadata": {
    "colab_type": "text",
    "id": "QnBrrRQCV27Y"
   },
   "source": [
    "###### **choosing subset of data, since it took long time to run the original data and finally carsh. Original data was too huge.**"
   ]
  },
  {
   "cell_type": "code",
   "execution_count": 6,
   "metadata": {
    "colab": {
     "base_uri": "https://localhost:8080/",
     "height": 406
    },
    "colab_type": "code",
    "id": "G45XBrSQ8tK9",
    "outputId": "d1d87717-57ea-4676-a5d3-fd0345bb2411"
   },
   "outputs": [
    {
     "data": {
      "text/html": [
       "<div>\n",
       "<style scoped>\n",
       "    .dataframe tbody tr th:only-of-type {\n",
       "        vertical-align: middle;\n",
       "    }\n",
       "\n",
       "    .dataframe tbody tr th {\n",
       "        vertical-align: top;\n",
       "    }\n",
       "\n",
       "    .dataframe thead th {\n",
       "        text-align: right;\n",
       "    }\n",
       "</style>\n",
       "<table border=\"1\" class=\"dataframe\">\n",
       "  <thead>\n",
       "    <tr style=\"text-align: right;\">\n",
       "      <th></th>\n",
       "      <th>sentiment</th>\n",
       "      <th>text</th>\n",
       "    </tr>\n",
       "  </thead>\n",
       "  <tbody>\n",
       "    <tr>\n",
       "      <th>0</th>\n",
       "      <td>Positive</td>\n",
       "      <td>RT @Diplomtc_Immnty: @realDonaldTrump They tri...</td>\n",
       "    </tr>\n",
       "    <tr>\n",
       "      <th>1</th>\n",
       "      <td>Negative</td>\n",
       "      <td>@chiefy74 Damn i'm jealous, i wanna watch the ...</td>\n",
       "    </tr>\n",
       "    <tr>\n",
       "      <th>2</th>\n",
       "      <td>Positive</td>\n",
       "      <td>I'm listening The Beatles now. They're great</td>\n",
       "    </tr>\n",
       "    <tr>\n",
       "      <th>3</th>\n",
       "      <td>Positive</td>\n",
       "      <td>@ddlovato could i please get a shout out or an...</td>\n",
       "    </tr>\n",
       "    <tr>\n",
       "      <th>4</th>\n",
       "      <td>Positive</td>\n",
       "      <td>@salspizza just spotted ur message there Tony ...</td>\n",
       "    </tr>\n",
       "    <tr>\n",
       "      <th>...</th>\n",
       "      <td>...</td>\n",
       "      <td>...</td>\n",
       "    </tr>\n",
       "    <tr>\n",
       "      <th>9996</th>\n",
       "      <td>Negative</td>\n",
       "      <td>RT @RWSurferGirl: Jeb Bush reminds me of eleva...</td>\n",
       "    </tr>\n",
       "    <tr>\n",
       "      <th>9997</th>\n",
       "      <td>Positive</td>\n",
       "      <td>@GilkisonT and it's not just cause your ba wa ...</td>\n",
       "    </tr>\n",
       "    <tr>\n",
       "      <th>9998</th>\n",
       "      <td>Negative</td>\n",
       "      <td>@OffTheHook77 You guys are gonna make me cry</td>\n",
       "    </tr>\n",
       "    <tr>\n",
       "      <th>9999</th>\n",
       "      <td>Negative</td>\n",
       "      <td>cant sleep. im sick too</td>\n",
       "    </tr>\n",
       "    <tr>\n",
       "      <th>10000</th>\n",
       "      <td>Positive</td>\n",
       "      <td>RT @UniteWomenOrg: #CarlyFiorina is perfect GO...</td>\n",
       "    </tr>\n",
       "  </tbody>\n",
       "</table>\n",
       "<p>10000 rows × 2 columns</p>\n",
       "</div>"
      ],
      "text/plain": [
       "      sentiment                                               text\n",
       "0      Positive  RT @Diplomtc_Immnty: @realDonaldTrump They tri...\n",
       "1      Negative  @chiefy74 Damn i'm jealous, i wanna watch the ...\n",
       "2      Positive      I'm listening The Beatles now. They're great \n",
       "3      Positive  @ddlovato could i please get a shout out or an...\n",
       "4      Positive  @salspizza just spotted ur message there Tony ...\n",
       "...         ...                                                ...\n",
       "9996   Negative  RT @RWSurferGirl: Jeb Bush reminds me of eleva...\n",
       "9997   Positive  @GilkisonT and it's not just cause your ba wa ...\n",
       "9998   Negative      @OffTheHook77 You guys are gonna make me cry \n",
       "9999   Negative                           cant sleep. im sick too \n",
       "10000  Positive  RT @UniteWomenOrg: #CarlyFiorina is perfect GO...\n",
       "\n",
       "[10000 rows x 2 columns]"
      ]
     },
     "execution_count": 6,
     "metadata": {
      "tags": []
     },
     "output_type": "execute_result"
    }
   ],
   "source": [
    "df_s = df_s.iloc[:10000,:]\n",
    "df_s"
   ]
  },
  {
   "cell_type": "code",
   "execution_count": 0,
   "metadata": {
    "colab": {},
    "colab_type": "code",
    "id": "ae1XjeC6erZD"
   },
   "outputs": [],
   "source": [
    "df_ce_v = df_ce.values\n",
    "df_s_v = df_s.values"
   ]
  },
  {
   "cell_type": "code",
   "execution_count": 8,
   "metadata": {
    "colab": {
     "base_uri": "https://localhost:8080/",
     "height": 232
    },
    "colab_type": "code",
    "id": "_Uv3D80q8kSM",
    "outputId": "ee636e88-b1eb-47f5-8ec8-8200b510ee36"
   },
   "outputs": [
    {
     "data": {
      "text/plain": [
       "array([['Positive',\n",
       "        'RT @Diplomtc_Immnty: @realDonaldTrump They tried to take you out &amp; your poll numbers skyrocketed. Voters matter, not @FOXNews moderators.\\n#â€¦'],\n",
       "       ['Negative',\n",
       "        \"@chiefy74 Damn i'm jealous, i wanna watch the fight  i love ufc just no one knows.\"],\n",
       "       ['Positive', \"I'm listening The Beatles now. They're great \"],\n",
       "       ...,\n",
       "       ['Negative', '@OffTheHook77 You guys are gonna make me cry '],\n",
       "       ['Negative', 'cant sleep. im sick too '],\n",
       "       ['Positive',\n",
       "        'RT @UniteWomenOrg: #CarlyFiorina is perfect GOP candidate. Great performance at #GOPDebate with 0% truth rating via @PolitiFact']],\n",
       "      dtype=object)"
      ]
     },
     "execution_count": 8,
     "metadata": {
      "tags": []
     },
     "output_type": "execute_result"
    }
   ],
   "source": [
    "df_s_v"
   ]
  },
  {
   "cell_type": "markdown",
   "metadata": {
    "colab_type": "text",
    "id": "Ssi_3yo4afvP"
   },
   "source": [
    "## **1.Data cleaning**"
   ]
  },
  {
   "cell_type": "code",
   "execution_count": 0,
   "metadata": {
    "colab": {},
    "colab_type": "code",
    "id": "-ngyUHeCjYWd"
   },
   "outputs": [],
   "source": [
    "for i in range(df_s_v.shape[0]):\n",
    "    cleanr = re.compile('<.*?>')\n",
    "    df_s_v[i,1] = re.sub(cleanr, '', df_s_v[i,1]) # All html tags and attributes (i.e., /<[^>]+>/) are removed\n",
    "\n",
    "    df_s_v[i,1] = html.unescape(df_s_v[i,1]) # Html character codes (i.e., &...;) are replaced with an ASCII equivalent.\n",
    "\n",
    "    df_s_v[i,1] = re.sub('http[s]?://\\S+', '', df_s_v[i,1]) # All URLs are removed.\n",
    "\n",
    "    df_s_v[i,1] = df_s_v[i,1].lower() # Convert to lower case.\n",
    "\n",
    "    df_s_v[i,1] = \"\".join([k for k in df_s_v[i,1] if k not in string.punctuation]) # Remove punctuation.\n",
    "\n",
    "    tokenizer = RegexpTokenizer(r'\\w+')         \n",
    "    df_s_v[i,1] = tokenizer.tokenize(df_s_v[i,1])\n",
    "\n",
    "    words_rmStop0 = [word for word in df_s_v[i,1] if word not in stopwords.words('english')] # All stop words are removed\n",
    "\n",
    "    ps = PorterStemmer()\n",
    "    df_s_v[i,1] = [ps.stem(word) for word in words_rmStop0] # stem words\n"
   ]
  },
  {
   "cell_type": "code",
   "execution_count": 10,
   "metadata": {
    "colab": {
     "base_uri": "https://localhost:8080/",
     "height": 267
    },
    "colab_type": "code",
    "id": "biFOgZ2w1eoq",
    "outputId": "f11c8781-467b-4f27-ea55-a1a3df6a73bc"
   },
   "outputs": [
    {
     "data": {
      "text/plain": [
       "array([['Negative', 'Women Reproductive right and Racism',\n",
       "        'b\"@RosieBarton So instead of your suggestion, how about we agree that #Canadian #women can not and should not trust that #AndrewScheer and a #Conservatives government will protect a woman\\'s right to have automony over her body. Let\\'s go with that.  #cdnpoli #elxn43  #Canada #abortion\"'],\n",
       "       ['Positive', nan,\n",
       "        'b\"#AllWomanSpacewalk it\\'s real!\\\\n@Space_Station \\\\n#EtobicokeNorth #CityofTO #ONPoli #cdnpoli #elxn43 https://t.co/wgdXLksTbQ\"'],\n",
       "       ['Negative', 'Economy',\n",
       "        'b\"#Brantford It\\'s going to cost YOU $94 BILLION FOR THE NEXT 4 YEARS! ASK JUSTIN! #elxn43 #cdnpoli #Canada https://t.co/9DTLLd9972\"'],\n",
       "       ...,\n",
       "       ['Positive', nan,\n",
       "        \"b'Your daily reminder:\\\\n@theJagmeetSingh endorses strategic voting\\\\n#elxn43 #elxn2019 #CDNpoli #LPC #NDP #GPC https://t.co/DcnC7PWM6g'\"],\n",
       "       ['Negative', 'Women Reproductive right and Racism',\n",
       "        \"b'Yup...not going to reopen the abortion debate...\\\\xf0\\\\x9f\\\\x98\\\\x8f\\\\n#elxn43 #ScheerLies #ScheerHypocrisy https://t.co/88hl2SmgcT'\"],\n",
       "       ['Positive', nan,\n",
       "        \"b'Zing.\\\\n#NDP #elxn43 https://t.co/xo6Qe4jV3p'\"]], dtype=object)"
      ]
     },
     "execution_count": 10,
     "metadata": {
      "tags": []
     },
     "output_type": "execute_result"
    }
   ],
   "source": [
    "df_ce_v"
   ]
  },
  {
   "cell_type": "code",
   "execution_count": 0,
   "metadata": {
    "colab": {},
    "colab_type": "code",
    "id": "wYmpqWbl2O0R"
   },
   "outputs": [],
   "source": [
    "for i in range(df_ce_v.shape[0]):\n",
    "    # for j in [0,2]:\n",
    "    cleanr = re.compile('<.*?>')\n",
    "    df_ce_v[i,2] = re.sub(cleanr, '', df_ce_v[i,2]) # All html tags and attributes (i.e., /<[^>]+>/) are removed\n",
    "\n",
    "    df_ce_v[i,2] = html.unescape(df_ce_v[i,2]) # Html character codes (i.e., &...;) are replaced with an ASCII equivalent.\n",
    "\n",
    "    df_ce_v[i,2] = re.sub('http[s]?://\\S+', '', df_ce_v[i,2]) # All URLs are removed.\n",
    "\n",
    "    df_ce_v[i,2] = df_ce_v[i,2].lower() # Convert to lower case.\n",
    "\n",
    "    df_ce_v[i,2] = \"\".join(k for k in df_ce_v[i,2] if k not in string.punctuation) # Remove punctuation.\n",
    "\n",
    "    tokenizer = RegexpTokenizer(r'\\w+')         \n",
    "    df_ce_v[i,2] = tokenizer.tokenize(df_ce_v[i,2]) # All stop words are removed.\n",
    "\n",
    "    words_rmStop0 = [word for word in df_ce_v[i,2] if word not in stopwords.words('english')] # stem words\n",
    "    df_ce_v[i,2][0] = df_ce_v[i,2][0][1:]\n",
    "\n"
   ]
  },
  {
   "cell_type": "code",
   "execution_count": 12,
   "metadata": {
    "colab": {
     "base_uri": "https://localhost:8080/",
     "height": 250
    },
    "colab_type": "code",
    "id": "M_NBRNxjnSV1",
    "outputId": "5e84994e-24ad-41c7-97ea-53ccf3776a04"
   },
   "outputs": [
    {
     "data": {
      "text/plain": [
       "array([['Negative', 'Women Reproductive right and Racism',\n",
       "        list(['rosiebarton', 'so', 'instead', 'of', 'your', 'suggestion', 'how', 'about', 'we', 'agree', 'that', 'canadian', 'women', 'can', 'not', 'and', 'should', 'not', 'trust', 'that', 'andrewscheer', 'and', 'a', 'conservatives', 'government', 'will', 'protect', 'a', 'womans', 'right', 'to', 'have', 'automony', 'over', 'her', 'body', 'lets', 'go', 'with', 'that', 'cdnpoli', 'elxn43', 'canada', 'abortion'])],\n",
       "       ['Positive', nan,\n",
       "        list(['allwomanspacewalk', 'its', 'realnspacestation', 'netobicokenorth', 'cityofto', 'onpoli', 'cdnpoli', 'elxn43'])],\n",
       "       ['Negative', 'Economy',\n",
       "        list(['brantford', 'its', 'going', 'to', 'cost', 'you', '94', 'billion', 'for', 'the', 'next', '4', 'years', 'ask', 'justin', 'elxn43', 'cdnpoli', 'canada'])],\n",
       "       ...,\n",
       "       ['Positive', nan,\n",
       "        list(['your', 'daily', 'remindernthejagmeetsingh', 'endorses', 'strategic', 'votingnelxn43', 'elxn2019', 'cdnpoli', 'lpc', 'ndp', 'gpc'])],\n",
       "       ['Negative', 'Women Reproductive right and Racism',\n",
       "        list(['yupnot', 'going', 'to', 'reopen', 'the', 'abortion', 'debatexf0x9fx98x8fnelxn43', 'scheerlies', 'scheerhypocrisy'])],\n",
       "       ['Positive', nan, list(['zingnndp', 'elxn43'])]], dtype=object)"
      ]
     },
     "execution_count": 12,
     "metadata": {
      "tags": []
     },
     "output_type": "execute_result"
    }
   ],
   "source": [
    "df_ce_v"
   ]
  },
  {
   "cell_type": "markdown",
   "metadata": {
    "colab_type": "text",
    "id": "WoNNYRVKdGQL"
   },
   "source": [
    "## **2.Exploratory analysis**"
   ]
  },
  {
   "cell_type": "code",
   "execution_count": 0,
   "metadata": {
    "colab": {},
    "colab_type": "code",
    "id": "HUZueHBh95FG"
   },
   "outputs": [],
   "source": [
    "# Key words in each party to find out which tweet belongs to which party.\n",
    "Liberal =['trudeau', 'justin', 'liberal', 'sheilacopps', 'lpc', 'red', 'chretien']\n",
    "Conservative=['scheer','andrew', 'conservative', 'blue', 'cpc', 'poilievre', 'stephen', 'harper', 'scheerlies']\n",
    "NDP=['ndp', 'orange', 'jagmeet', 'Blanchet', 'mulcair', 'singh']\n",
    "P = []"
   ]
  },
  {
   "cell_type": "code",
   "execution_count": 0,
   "metadata": {
    "colab": {},
    "colab_type": "code",
    "id": "Z9Udsucfbn8S"
   },
   "outputs": [],
   "source": [
    "def party(x):\n",
    "    L = 0\n",
    "    C = 0\n",
    "    ND = 0\n",
    "    # check the fraquency of key word from each party in each tweet.\n",
    "    for w in Liberal:\n",
    "        if w in x:\n",
    "            L += 1\n",
    "    for w in Conservative:\n",
    "        if w in x:\n",
    "            C += 1\n",
    "    for w in NDP:\n",
    "        if w in x:\n",
    "            ND += 1\n",
    "    if (L > C) and (L > ND):\n",
    "        return 'L'\n",
    "    elif (C > L) and (C > ND):\n",
    "        return 'C'\n",
    "    elif (ND > L) and (ND > C):\n",
    "        return 'ND'\n",
    "\n",
    "\n",
    "    \n",
    "    "
   ]
  },
  {
   "cell_type": "code",
   "execution_count": 15,
   "metadata": {
    "colab": {
     "base_uri": "https://localhost:8080/",
     "height": 34
    },
    "colab_type": "code",
    "id": "7ak_iJhLvNwW",
    "outputId": "baa88e92-22a9-4d0b-ef1c-e5125fd1afbe"
   },
   "outputs": [
    {
     "data": {
      "text/plain": [
       "(2133, 3)"
      ]
     },
     "execution_count": 15,
     "metadata": {
      "tags": []
     },
     "output_type": "execute_result"
    }
   ],
   "source": [
    "df_ce_v.shape"
   ]
  },
  {
   "cell_type": "code",
   "execution_count": 0,
   "metadata": {
    "colab": {},
    "colab_type": "code",
    "id": "GSuJvCbPlD03"
   },
   "outputs": [],
   "source": [
    "for i in df_ce_v[:, -1]:\n",
    "    P1 = []\n",
    "    # each tweet belongs to party with the highest key word frequency among 3 party, if key word frequency of all 3 party are 0, it belongs to None.\n",
    "    for j in i:\n",
    "        x = party(j)\n",
    "        P1.append(x)\n",
    "    if (P1.count('L') > P1.count('C')) and (P1.count('L') > P1.count('ND')):\n",
    "        P.append('Liberal')\n",
    "    elif (P1.count('C') > P1.count('L')) and (P1.count('C') > P1.count('ND')):\n",
    "        P.append('Conservative')\n",
    "    elif (P1.count('ND') > P1.count('C')) and (P1.count('ND') > P1.count('L')):\n",
    "        P.append('NDP')\n",
    "    else:\n",
    "        P.append('None')\n",
    "\n"
   ]
  },
  {
   "cell_type": "code",
   "execution_count": 17,
   "metadata": {
    "colab": {
     "base_uri": "https://localhost:8080/",
     "height": 54
    },
    "colab_type": "code",
    "id": "KuTssN4PpV_o",
    "outputId": "e98967b1-020a-4cba-8c9c-bd5d60f9d6f8"
   },
   "outputs": [
    {
     "name": "stdout",
     "output_type": "stream",
     "text": [
      "['Conservative', 'None', 'Liberal', 'None', 'Liberal', 'Conservative', 'None', 'None', 'None', 'None', 'None', 'Liberal', 'None', 'None', 'None', 'Conservative', 'None', 'NDP', 'None', 'Conservative', 'Liberal', 'Conservative', 'None', 'Liberal', 'Liberal', 'None', 'Liberal', 'Liberal', 'Liberal', 'None', 'Liberal', 'None', 'Conservative', 'None', 'Conservative', 'Conservative', 'Liberal', 'Liberal', 'None', 'Conservative', 'Liberal', 'Conservative', 'None', 'Conservative', 'Conservative', 'Liberal', 'Conservative', 'None', 'Liberal', 'Liberal', 'None', 'Liberal', 'Conservative', 'None', 'Liberal', 'None', 'Liberal', 'None', 'None', 'Conservative', 'Conservative', 'None', 'None', 'None', 'None', 'Liberal', 'Liberal', 'Liberal', 'Liberal', 'None', 'None', 'NDP', 'Conservative', 'None', 'Conservative', 'Conservative', 'None', 'Conservative', 'None', 'None', 'Conservative', 'None', 'Conservative', 'Conservative', 'Conservative', 'Conservative', 'None', 'None', 'None', 'Conservative', 'Liberal', 'Liberal', 'Conservative', 'None', 'NDP', 'Liberal', 'Liberal', 'Liberal', 'None', 'Liberal', 'NDP', 'Liberal', 'None', 'Liberal', 'Liberal', 'Liberal', 'Liberal', 'None', 'None', 'None', 'None', 'Liberal', 'Conservative', 'Conservative', 'None', 'Conservative', 'Conservative', 'Conservative', 'None', 'Liberal', 'Liberal', 'None', 'Conservative', 'Conservative', 'Conservative', 'Conservative', 'Conservative', 'None', 'None', 'Conservative', 'None', 'Conservative', 'Conservative', 'None', 'None', 'None', 'None', 'None', 'Liberal', 'Liberal', 'None', 'Conservative', 'None', 'None', 'None', 'None', 'None', 'None', 'None', 'Liberal', 'Liberal', 'Conservative', 'None', 'Conservative', 'None', 'None', 'Conservative', 'Liberal', 'Conservative', 'None', 'None', 'None', 'None', 'Conservative', 'None', 'Conservative', 'Conservative', 'None', 'Liberal', 'None', 'None', 'Conservative', 'Liberal', 'None', 'None', 'Conservative', 'Liberal', 'Liberal', 'None', 'None', 'Liberal', 'None', 'Conservative', 'None', 'None', 'None', 'NDP', 'None', 'Conservative', 'Conservative', 'None', 'Liberal', 'Conservative', 'None', 'Conservative', 'None', 'Liberal', 'None', 'None', 'None', 'None', 'None', 'None', 'Liberal', 'None', 'None', 'Conservative', 'None', 'None', 'Liberal', 'Conservative', 'Conservative', 'Conservative', 'Conservative', 'Conservative', 'None', 'Conservative', 'Conservative', 'None', 'Conservative', 'Conservative', 'Conservative', 'None', 'Liberal', 'None', 'NDP', 'Liberal', 'NDP', 'Conservative', 'None', 'Conservative', 'Conservative', 'Conservative', 'None', 'Liberal', 'Liberal', 'None', 'None', 'None', 'None', 'Liberal', 'None', 'Liberal', 'None', 'Liberal', 'Conservative', 'Conservative', 'Conservative', 'Conservative', 'Conservative', 'Conservative', 'Conservative', 'Conservative', 'None', 'NDP', 'None', 'Conservative', 'Conservative', 'None', 'None', 'None', 'None', 'None', 'None', 'Liberal', 'NDP', 'None', 'Liberal', 'Conservative', 'None', 'None', 'Conservative', 'None', 'None', 'Conservative', 'Liberal', 'None', 'None', 'Conservative', 'None', 'Liberal', 'None', 'Liberal', 'None', 'None', 'None', 'Conservative', 'Conservative', 'None', 'None', 'None', 'None', 'NDP', 'NDP', 'Conservative', 'None', 'None', 'None', 'Liberal', 'NDP', 'NDP', 'None', 'Liberal', 'Conservative', 'NDP', 'None', 'Conservative', 'None', 'Liberal', 'None', 'Liberal', 'None', 'None', 'None', 'None', 'None', 'None', 'None', 'None', 'None', 'Conservative', 'None', 'NDP', 'None', 'None', 'Liberal', 'Liberal', 'Conservative', 'NDP', 'None', 'Liberal', 'NDP', 'Conservative', 'Liberal', 'Liberal', 'None', 'Conservative', 'Conservative', 'Conservative', 'Conservative', 'None', 'Liberal', 'None', 'Conservative', 'None', 'None', 'None', 'None', 'None', 'None', 'NDP', 'None', 'Conservative', 'None', 'NDP', 'None', 'Conservative', 'None', 'None', 'None', 'None', 'Liberal', 'None', 'Liberal', 'Conservative', 'None', 'None', 'None', 'Conservative', 'Conservative', 'Conservative', 'Conservative', 'None', 'None', 'NDP', 'None', 'Liberal', 'Liberal', 'None', 'None', 'None', 'None', 'None', 'None', 'None', 'None', 'Conservative', 'Liberal', 'None', 'None', 'None', 'None', 'Liberal', 'None', 'Liberal', 'Liberal', 'Liberal', 'None', 'None', 'NDP', 'NDP', 'NDP', 'Liberal', 'None', 'Conservative', 'Conservative', 'Conservative', 'None', 'None', 'Liberal', 'None', 'None', 'Liberal', 'Conservative', 'Conservative', 'Conservative', 'None', 'Liberal', 'None', 'None', 'NDP', 'None', 'None', 'Conservative', 'Liberal', 'Conservative', 'Conservative', 'Conservative', 'Conservative', 'Conservative', 'Liberal', 'Conservative', 'Conservative', 'Conservative', 'None', 'Conservative', 'Liberal', 'Conservative', 'Liberal', 'None', 'NDP', 'Conservative', 'Conservative', 'NDP', 'Conservative', 'None', 'None', 'NDP', 'None', 'NDP', 'None', 'Conservative', 'None', 'Conservative', 'Conservative', 'NDP', 'None', 'Conservative', 'Liberal', 'Conservative', 'None', 'Liberal', 'Conservative', 'NDP', 'NDP', 'NDP', 'None', 'None', 'Conservative', 'Liberal', 'None', 'None', 'Conservative', 'None', 'None', 'Conservative', 'NDP', 'None', 'None', 'None', 'None', 'NDP', 'None', 'None', 'None', 'Liberal', 'Liberal', 'None', 'Conservative', 'None', 'NDP', 'Liberal', 'Conservative', 'Conservative', 'Liberal', 'Liberal', 'None', 'Liberal', 'Liberal', 'None', 'None', 'Liberal', 'Conservative', 'Liberal', 'None', 'Conservative', 'None', 'Conservative', 'None', 'None', 'None', 'None', 'None', 'None', 'None', 'None', 'None', 'None', 'None', 'None', 'None', 'None', 'None', 'Liberal', 'NDP', 'Conservative', 'Conservative', 'None', 'Liberal', 'Conservative', 'NDP', 'Liberal', 'None', 'None', 'NDP', 'None', 'NDP', 'NDP', 'NDP', 'NDP', 'Conservative', 'NDP', 'None', 'None', 'None', 'Liberal', 'NDP', 'NDP', 'Conservative', 'None', 'Liberal', 'NDP', 'None', 'None', 'None', 'Liberal', 'Conservative', 'Conservative', 'Conservative', 'Conservative', 'None', 'None', 'None', 'Liberal', 'Conservative', 'None', 'Liberal', 'Conservative', 'Conservative', 'Conservative', 'Conservative', 'Liberal', 'Liberal', 'None', 'Liberal', 'None', 'None', 'None', 'None', 'None', 'None', 'Conservative', 'Conservative', 'None', 'None', 'None', 'None', 'None', 'Conservative', 'None', 'None', 'Conservative', 'NDP', 'None', 'None', 'None', 'None', 'Liberal', 'None', 'None', 'Conservative', 'Liberal', 'NDP', 'Conservative', 'Liberal', 'None', 'None', 'Conservative', 'Conservative', 'Conservative', 'Liberal', 'NDP', 'Liberal', 'Conservative', 'None', 'NDP', 'NDP', 'NDP', 'NDP', 'Conservative', 'Liberal', 'None', 'None', 'Conservative', 'Conservative', 'None', 'Conservative', 'NDP', 'None', 'Conservative', 'None', 'None', 'None', 'Liberal', 'Conservative', 'Conservative', 'None', 'None', 'NDP', 'NDP', 'None', 'None', 'Conservative', 'Liberal', 'None', 'Conservative', 'Conservative', 'None', 'None', 'NDP', 'Liberal', 'Conservative', 'Liberal', 'None', 'Conservative', 'None', 'Conservative', 'None', 'None', 'Conservative', 'Conservative', 'Conservative', 'None', 'None', 'Conservative', 'None', 'Liberal', 'Liberal', 'Liberal', 'None', 'Liberal', 'Liberal', 'Liberal', 'None', 'None', 'Conservative', 'Conservative', 'Conservative', 'None', 'Conservative', 'Conservative', 'Conservative', 'Conservative', 'Conservative', 'Conservative', 'Conservative', 'Conservative', 'None', 'Conservative', 'Liberal', 'None', 'None', 'None', 'None', 'Conservative', 'Conservative', 'None', 'None', 'Conservative', 'None', 'Liberal', 'Conservative', 'Liberal', 'Conservative', 'None', 'Conservative', 'None', 'None', 'None', 'Conservative', 'None', 'None', 'Liberal', 'None', 'None', 'None', 'Conservative', 'Liberal', 'None', 'Liberal', 'Liberal', 'Liberal', 'Liberal', 'Conservative', 'None', 'None', 'Conservative', 'Liberal', 'Conservative', 'Conservative', 'Liberal', 'Conservative', 'None', 'Conservative', 'None', 'Conservative', 'None', 'None', 'None', 'Liberal', 'None', 'Liberal', 'Liberal', 'None', 'Conservative', 'Conservative', 'None', 'None', 'None', 'None', 'Conservative', 'None', 'Conservative', 'Liberal', 'Conservative', 'Liberal', 'Conservative', 'Conservative', 'Conservative', 'None', 'None', 'None', 'Conservative', 'None', 'Liberal', 'None', 'None', 'Conservative', 'None', 'None', 'Liberal', 'Conservative', 'None', 'None', 'Conservative', 'Liberal', 'None', 'None', 'Liberal', 'None', 'Conservative', 'Liberal', 'Conservative', 'Conservative', 'Conservative', 'Liberal', 'None', 'Conservative', 'Conservative', 'None', 'None', 'Conservative', 'Liberal', 'None', 'Conservative', 'Conservative', 'Conservative', 'None', 'NDP', 'None', 'None', 'Conservative', 'Conservative', 'Liberal', 'None', 'None', 'Conservative', 'Conservative', 'Conservative', 'Liberal', 'Conservative', 'Liberal', 'Liberal', 'Liberal', 'Conservative', 'Liberal', 'Liberal', 'Conservative', 'Liberal', 'Conservative', 'None', 'Conservative', 'None', 'None', 'None', 'Liberal', 'Conservative', 'NDP', 'None', 'Liberal', 'Liberal', 'Liberal', 'Conservative', 'None', 'Liberal', 'None', 'None', 'Conservative', 'None', 'NDP', 'None', 'Conservative', 'Conservative', 'Conservative', 'Liberal', 'None', 'None', 'Liberal', 'Conservative', 'Liberal', 'None', 'Liberal', 'Liberal', 'Liberal', 'Liberal', 'Liberal', 'Liberal', 'Liberal', 'None', 'Liberal', 'Liberal', 'Liberal', 'Liberal', 'Liberal', 'Liberal', 'Liberal', 'Liberal', 'Liberal', 'Liberal', 'Liberal', 'None', 'Liberal', 'Conservative', 'NDP', 'NDP', 'None', 'None', 'Conservative', 'None', 'Conservative', 'Conservative', 'None', 'None', 'Conservative', 'Conservative', 'Conservative', 'Conservative', 'Liberal', 'Conservative', 'Conservative', 'Conservative', 'None', 'Conservative', 'None', 'None', 'None', 'Liberal', 'None', 'Conservative', 'None', 'None', 'Conservative', 'Conservative', 'NDP', 'Liberal', 'Liberal', 'Conservative', 'None', 'None', 'Liberal', 'Conservative', 'None', 'Liberal', 'Liberal', 'None', 'None', 'None', 'None', 'None', 'Conservative', 'None', 'None', 'Liberal', 'Conservative', 'Conservative', 'Liberal', 'NDP', 'Conservative', 'Liberal', 'None', 'Conservative', 'None', 'None', 'Conservative', 'None', 'Liberal', 'Liberal', 'None', 'None', 'NDP', 'Conservative', 'Liberal', 'NDP', 'Liberal', 'Conservative', 'Liberal', 'None', 'None', 'None', 'None', 'None', 'Conservative', 'None', 'None', 'None', 'Liberal', 'None', 'None', 'Conservative', 'Conservative', 'Conservative', 'Conservative', 'None', 'None', 'None', 'None', 'Liberal', 'None', 'None', 'None', 'NDP', 'Liberal', 'None', 'Conservative', 'None', 'None', 'None', 'NDP', 'Conservative', 'None', 'None', 'Liberal', 'None', 'Conservative', 'Liberal', 'None', 'Conservative', 'None', 'None', 'None', 'Liberal', 'None', 'Conservative', 'Liberal', 'Liberal', 'None', 'None', 'Liberal', 'Liberal', 'None', 'Liberal', 'None', 'None', 'Conservative', 'Conservative', 'Conservative', 'None', 'None', 'Liberal', 'None', 'None', 'Conservative', 'Liberal', 'Liberal', 'NDP', 'Liberal', 'Conservative', 'Liberal', 'None', 'None', 'None', 'None', 'None', 'Liberal', 'Liberal', 'None', 'None', 'None', 'Liberal', 'NDP', 'Liberal', 'None', 'None', 'Liberal', 'Liberal', 'None', 'Conservative', 'None', 'NDP', 'NDP', 'NDP', 'NDP', 'NDP', 'NDP', 'Conservative', 'None', 'None', 'Conservative', 'Conservative', 'None', 'Conservative', 'None', 'Liberal', 'None', 'None', 'NDP', 'None', 'None', 'None', 'Conservative', 'Liberal', 'None', 'None', 'None', 'Liberal', 'Conservative', 'Conservative', 'None', 'Liberal', 'Conservative', 'Liberal', 'Conservative', 'None', 'Liberal', 'None', 'None', 'Conservative', 'None', 'Conservative', 'NDP', 'NDP', 'Liberal', 'Conservative', 'Conservative', 'None', 'NDP', 'Liberal', 'Liberal', 'None', 'None', 'None', 'None', 'None', 'None', 'None', 'NDP', 'None', 'Liberal', 'Liberal', 'Conservative', 'Liberal', 'Liberal', 'Conservative', 'Conservative', 'NDP', 'None', 'None', 'NDP', 'None', 'None', 'None', 'None', 'None', 'None', 'None', 'Liberal', 'None', 'None', 'Conservative', 'Conservative', 'Liberal', 'Liberal', 'None', 'None', 'NDP', 'Liberal', 'None', 'Conservative', 'NDP', 'Conservative', 'None', 'Conservative', 'Conservative', 'None', 'Liberal', 'None', 'None', 'None', 'Conservative', 'None', 'Conservative', 'None', 'None', 'Conservative', 'None', 'None', 'Conservative', 'None', 'Conservative', 'None', 'None', 'None', 'None', 'None', 'Conservative', 'Liberal', 'None', 'None', 'None', 'Conservative', 'Conservative', 'Liberal', 'Liberal', 'None', 'NDP', 'NDP', 'NDP', 'Conservative', 'Conservative', 'None', 'None', 'None', 'Liberal', 'Liberal', 'Liberal', 'None', 'NDP', 'NDP', 'Conservative', 'None', 'None', 'Conservative', 'Conservative', 'Conservative', 'Conservative', 'Conservative', 'Conservative', 'Conservative', 'Conservative', 'Conservative', 'None', 'Liberal', 'None', 'Conservative', 'None', 'None', 'Liberal', 'Liberal', 'None', 'None', 'Conservative', 'NDP', 'None', 'Conservative', 'None', 'None', 'None', 'Conservative', 'Conservative', 'Liberal', 'NDP', 'None', 'None', 'None', 'Conservative', 'None', 'Conservative', 'None', 'None', 'None', 'NDP', 'None', 'None', 'None', 'NDP', 'Conservative', 'None', 'None', 'Liberal', 'None', 'None', 'Liberal', 'Conservative', 'NDP', 'None', 'Conservative', 'Liberal', 'None', 'None', 'NDP', 'Conservative', 'NDP', 'Conservative', 'None', 'None', 'None', 'None', 'Conservative', 'None', 'None', 'NDP', 'NDP', 'None', 'None', 'None', 'Liberal', 'Liberal', 'Liberal', 'Liberal', 'Liberal', 'NDP', 'None', 'None', 'Liberal', 'None', 'None', 'Conservative', 'None', 'None', 'Conservative', 'Liberal', 'Liberal', 'None', 'Conservative', 'Conservative', 'None', 'Conservative', 'None', 'None', 'None', 'Liberal', 'Liberal', 'None', 'Liberal', 'None', 'Conservative', 'Conservative', 'Conservative', 'None', 'None', 'None', 'None', 'NDP', 'None', 'Conservative', 'None', 'None', 'None', 'Conservative', 'None', 'None', 'Liberal', 'Liberal', 'None', 'None', 'NDP', 'None', 'None', 'Liberal', 'None', 'None', 'NDP', 'Liberal', 'NDP', 'None', 'None', 'None', 'Liberal', 'None', 'Liberal', 'Conservative', 'None', 'Liberal', 'Conservative', 'None', 'None', 'None', 'None', 'Conservative', 'None', 'None', 'None', 'Conservative', 'None', 'Conservative', 'None', 'None', 'Liberal', 'Liberal', 'Liberal', 'NDP', 'Liberal', 'Liberal', 'None', 'None', 'None', 'None', 'None', 'None', 'None', 'None', 'None', 'NDP', 'Liberal', 'Conservative', 'Conservative', 'None', 'None', 'None', 'Liberal', 'None', 'Conservative', 'None', 'None', 'None', 'NDP', 'Conservative', 'Conservative', 'Conservative', 'Conservative', 'None', 'None', 'None', 'Liberal', 'NDP', 'Liberal', 'None', 'Liberal', 'None', 'None', 'NDP', 'NDP', 'Liberal', 'None', 'NDP', 'None', 'Conservative', 'None', 'None', 'Conservative', 'Liberal', 'None', 'Conservative', 'Conservative', 'None', 'Conservative', 'None', 'None', 'None', 'None', 'Liberal', 'Liberal', 'Liberal', 'None', 'None', 'None', 'None', 'Conservative', 'Conservative', 'Conservative', 'Conservative', 'None', 'NDP', 'None', 'None', 'None', 'Conservative', 'None', 'NDP', 'None', 'None', 'Liberal', 'None', 'NDP', 'Conservative', 'None', 'NDP', 'None', 'None', 'Conservative', 'Conservative', 'None', 'Conservative', 'None', 'None', 'None', 'None', 'None', 'Conservative', 'Conservative', 'Conservative', 'Conservative', 'Conservative', 'Conservative', 'None', 'None', 'None', 'Conservative', 'None', 'None', 'NDP', 'None', 'Conservative', 'None', 'Liberal', 'Conservative', 'Liberal', 'None', 'None', 'None', 'None', 'None', 'Conservative', 'None', 'None', 'None', 'Conservative', 'Conservative', 'Conservative', 'None', 'None', 'None', 'None', 'Conservative', 'Conservative', 'Conservative', 'None', 'None', 'Liberal', 'Liberal', 'None', 'None', 'None', 'None', 'None', 'Conservative', 'None', 'Conservative', 'None', 'Conservative', 'Conservative', 'None', 'Liberal', 'None', 'None', 'None', 'Conservative', 'None', 'None', 'Conservative', 'None', 'None', 'None', 'Conservative', 'None', 'Liberal', 'Liberal', 'Liberal', 'None', 'Liberal', 'None', 'Conservative', 'None', 'Conservative', 'None', 'None', 'Liberal', 'Conservative', 'NDP', 'NDP', 'Liberal', 'None', 'None', 'Conservative', 'None', 'Liberal', 'Liberal', 'NDP', 'Liberal', 'Conservative', 'None', 'None', 'None', 'None', 'Liberal', 'Conservative', 'None', 'NDP', 'None', 'None', 'None', 'None', 'None', 'None', 'None', 'Conservative', 'NDP', 'None', 'Conservative', 'Liberal', 'None', 'None', 'Conservative', 'None', 'NDP', 'Conservative', 'Conservative', 'None', 'None', 'None', 'None', 'NDP', 'None', 'None', 'NDP', 'NDP', 'None', 'NDP', 'Liberal', 'Liberal', 'Liberal', 'None', 'None', 'Liberal', 'None', 'Liberal', 'Liberal', 'Liberal', 'Liberal', 'Liberal', 'None', 'None', 'None', 'None', 'Conservative', 'None', 'None', 'Conservative', 'Conservative', 'None', 'None', 'None', 'None', 'None', 'None', 'Liberal', 'Liberal', 'Liberal', 'Liberal', 'None', 'Liberal', 'Conservative', 'Liberal', 'Conservative', 'None', 'None', 'Conservative', 'Liberal', 'None', 'None', 'Liberal', 'Liberal', 'None', 'None', 'Conservative', 'None', 'None', 'None', 'None', 'None', 'Liberal', 'None', 'None', 'None', 'Conservative', 'None', 'NDP', 'None', 'Conservative', 'None', 'None', 'Conservative', 'None', 'Liberal', 'None', 'None', 'NDP', 'None', 'NDP', 'None', 'None', 'None', 'Liberal', 'None', 'Liberal', 'Liberal', 'None', 'None', 'None', 'None', 'Conservative', 'NDP', 'Conservative', 'None', 'Liberal', 'None', 'Liberal', 'None', 'NDP', 'Liberal', 'None', 'Conservative', 'Liberal', 'None', 'Conservative', 'Liberal', 'Liberal', 'None', 'None', 'None', 'None', 'Liberal', 'None', 'Conservative', 'Conservative', 'None', 'Conservative', 'Conservative', 'None', 'Conservative', 'None', 'None', 'None', 'None', 'Liberal', 'Conservative', 'Liberal', 'None', 'NDP', 'None', 'None', 'None', 'NDP', 'NDP', 'NDP', 'None', 'None', 'None', 'Conservative', 'None', 'None', 'None', 'None', 'None', 'None', 'Conservative', 'None', 'None', 'Conservative', 'None', 'None', 'None', 'Conservative', 'Liberal', 'Liberal', 'None', 'None', 'None', 'None', 'Conservative', 'None', 'Conservative', 'None', 'None', 'None', 'Conservative', 'None', 'Liberal', 'None', 'NDP', 'None', 'None', 'Liberal', 'Conservative', 'Conservative', 'None', 'None', 'Conservative', 'Liberal', 'Conservative', 'Conservative', 'None', 'Liberal', 'None', 'Liberal', 'NDP', 'NDP', 'None', 'Conservative', 'None', 'None', 'None', 'None', 'NDP', 'None', 'None', 'None', 'None', 'None', 'None', 'NDP', 'None', 'None', 'Conservative', 'Liberal', 'None', 'Liberal', 'None', 'Liberal', 'Conservative', 'None', 'None', 'Conservative', 'Liberal', 'NDP', 'NDP', 'None', 'None', 'None', 'Conservative', 'Conservative', 'Conservative', 'Conservative', 'None', 'None', 'None', 'None', 'Conservative', 'None', 'Liberal', 'Liberal', 'None', 'None', 'None', 'NDP', 'None', 'Conservative', 'NDP', 'Conservative', 'Conservative', 'Conservative', 'None', 'None', 'None', 'None', 'None', 'None', 'Conservative', 'Conservative', 'None', 'None', 'Conservative', 'Liberal', 'None', 'None', 'None', 'None', 'None', 'None', 'None', 'Liberal', 'None', 'None', 'None', 'Liberal', 'Conservative', 'None', 'None', 'None', 'None', 'Liberal', 'Liberal', 'Liberal', 'None', 'Conservative', 'Conservative', 'None', 'Conservative', 'None', 'None', 'None', 'Conservative', 'None', 'Liberal', 'None', 'Liberal', 'Conservative', 'None', 'None', 'None', 'Liberal', 'Conservative', 'Liberal', 'Conservative', 'Conservative', 'None', 'Conservative', 'None', 'None', 'None', 'None', 'Conservative', 'Conservative', 'None', 'None', 'None', 'None', 'None', 'None', 'Liberal', 'Conservative', 'Liberal', 'None', 'Conservative', 'None', 'Liberal', 'None', 'None', 'Conservative', 'None', 'None', 'Liberal', 'Liberal', 'Liberal', 'Liberal', 'Conservative', 'Conservative', 'None', 'Liberal', 'None', 'Conservative', 'None', 'None', 'None', 'None', 'None', 'Liberal', 'None', 'Liberal', 'None', 'None', 'None', 'None', 'None', 'Conservative', 'None', 'Conservative', 'None', 'Liberal', 'None', 'None', 'Conservative', 'Liberal', 'Liberal', 'Conservative', 'Conservative', 'NDP', 'Conservative', 'Conservative', 'None', 'None', 'Conservative', 'Conservative', 'None', 'None', 'None', 'Liberal', 'None', 'None', 'None', 'Conservative', 'None', 'None', 'Liberal', 'Conservative', 'None', 'Liberal', 'Liberal', 'NDP', 'None', 'None', 'NDP', 'Conservative', 'None', 'None', 'None', 'Conservative', 'NDP', 'None', 'None', 'Liberal', 'None', 'None', 'NDP', 'Liberal', 'Liberal', 'None', 'None', 'None', 'None', 'None', 'None', 'None', 'None', 'None', 'Conservative', 'Liberal', 'None', 'Liberal', 'Liberal', 'Liberal', 'None', 'Liberal', 'Liberal', 'Conservative', 'None', 'None', 'None', 'None', 'None', 'Liberal', 'Liberal', 'None', 'Liberal', 'NDP', 'None', 'Conservative', 'None', 'Liberal', 'Conservative', 'None', 'Conservative', 'None', 'None', 'None', 'None', 'None', 'Liberal', 'Liberal', 'Conservative', 'None', 'Liberal', 'None', 'None', 'None', 'None', 'None', 'None', 'None', 'None', 'None', 'None', 'None', 'Conservative', 'None', 'Conservative', 'None', 'Conservative', 'Conservative', 'Liberal', 'None', 'Liberal', 'Conservative', 'None', 'None', 'None', 'None', 'None', 'None', 'None', 'None', 'None', 'None', 'None', 'NDP', 'None', 'None', 'NDP', 'NDP', 'NDP', 'Liberal', 'NDP', 'Conservative', 'None', 'Conservative', 'None', 'None', 'NDP', 'Conservative', 'None', 'Conservative', 'None', 'None', 'None', 'None', 'Conservative', 'Liberal', 'None', 'Conservative', 'None', 'None', 'None', 'Liberal', 'Liberal', 'None', 'NDP', 'Conservative', 'Conservative', 'None', 'None', 'None', 'Liberal', 'None', 'Liberal', 'Liberal', 'None', 'None', 'NDP', 'None', 'None', 'Conservative', 'Conservative', 'None', 'None', 'Liberal', 'NDP', 'None', 'None', 'Conservative', 'None', 'None', 'None', 'Conservative', 'None', 'None', 'None', 'Conservative', 'None', 'None', 'Liberal', 'None', 'None', 'NDP', 'None', 'Liberal', 'Liberal', 'None', 'NDP', 'Conservative', 'Liberal', 'NDP', 'NDP', 'Conservative', 'None', 'Liberal', 'Liberal', 'None', 'None', 'Conservative', 'Conservative', 'None', 'None', 'None', 'None', 'Conservative', 'None', 'None', 'None', 'Conservative', 'None', 'NDP', 'Conservative', 'NDP']\n"
     ]
    }
   ],
   "source": [
    "print(P)"
   ]
  },
  {
   "cell_type": "code",
   "execution_count": 18,
   "metadata": {
    "colab": {
     "base_uri": "https://localhost:8080/",
     "height": 34
    },
    "colab_type": "code",
    "id": "8GCDgt2nyFdY",
    "outputId": "5474db47-a2d4-471f-8302-39fa80cbc56c"
   },
   "outputs": [
    {
     "data": {
      "text/plain": [
       "523"
      ]
     },
     "execution_count": 18,
     "metadata": {
      "tags": []
     },
     "output_type": "execute_result"
    }
   ],
   "source": [
    "max([P.count('Liberal'), P.count('Conservative'), P.count('NDP')])"
   ]
  },
  {
   "cell_type": "code",
   "execution_count": 19,
   "metadata": {
    "colab": {
     "base_uri": "https://localhost:8080/",
     "height": 406
    },
    "colab_type": "code",
    "id": "SumDxDPUxNBz",
    "outputId": "5bc7308b-622b-4e7c-f878-0b48fa7ebbcd"
   },
   "outputs": [
    {
     "data": {
      "text/html": [
       "<div>\n",
       "<style scoped>\n",
       "    .dataframe tbody tr th:only-of-type {\n",
       "        vertical-align: middle;\n",
       "    }\n",
       "\n",
       "    .dataframe tbody tr th {\n",
       "        vertical-align: top;\n",
       "    }\n",
       "\n",
       "    .dataframe thead th {\n",
       "        text-align: right;\n",
       "    }\n",
       "</style>\n",
       "<table border=\"1\" class=\"dataframe\">\n",
       "  <thead>\n",
       "    <tr style=\"text-align: right;\">\n",
       "      <th></th>\n",
       "      <th>freq</th>\n",
       "    </tr>\n",
       "  </thead>\n",
       "  <tbody>\n",
       "    <tr>\n",
       "      <th>0</th>\n",
       "      <td>Conservative</td>\n",
       "    </tr>\n",
       "    <tr>\n",
       "      <th>1</th>\n",
       "      <td>None</td>\n",
       "    </tr>\n",
       "    <tr>\n",
       "      <th>2</th>\n",
       "      <td>Liberal</td>\n",
       "    </tr>\n",
       "    <tr>\n",
       "      <th>3</th>\n",
       "      <td>None</td>\n",
       "    </tr>\n",
       "    <tr>\n",
       "      <th>4</th>\n",
       "      <td>Liberal</td>\n",
       "    </tr>\n",
       "    <tr>\n",
       "      <th>...</th>\n",
       "      <td>...</td>\n",
       "    </tr>\n",
       "    <tr>\n",
       "      <th>2128</th>\n",
       "      <td>Conservative</td>\n",
       "    </tr>\n",
       "    <tr>\n",
       "      <th>2129</th>\n",
       "      <td>None</td>\n",
       "    </tr>\n",
       "    <tr>\n",
       "      <th>2130</th>\n",
       "      <td>NDP</td>\n",
       "    </tr>\n",
       "    <tr>\n",
       "      <th>2131</th>\n",
       "      <td>Conservative</td>\n",
       "    </tr>\n",
       "    <tr>\n",
       "      <th>2132</th>\n",
       "      <td>NDP</td>\n",
       "    </tr>\n",
       "  </tbody>\n",
       "</table>\n",
       "<p>2133 rows × 1 columns</p>\n",
       "</div>"
      ],
      "text/plain": [
       "              freq\n",
       "0     Conservative\n",
       "1             None\n",
       "2          Liberal\n",
       "3             None\n",
       "4          Liberal\n",
       "...            ...\n",
       "2128  Conservative\n",
       "2129          None\n",
       "2130           NDP\n",
       "2131  Conservative\n",
       "2132           NDP\n",
       "\n",
       "[2133 rows x 1 columns]"
      ]
     },
     "execution_count": 19,
     "metadata": {
      "tags": []
     },
     "output_type": "execute_result"
    }
   ],
   "source": [
    "df_party = pd.DataFrame({'freq':P})\n",
    "df_party"
   ]
  },
  {
   "cell_type": "code",
   "execution_count": 20,
   "metadata": {
    "colab": {
     "base_uri": "https://localhost:8080/",
     "height": 352
    },
    "colab_type": "code",
    "id": "ODtZx5JH_L1Q",
    "outputId": "5bf4020a-58fe-4130-b2cb-8d9ea65b88db"
   },
   "outputs": [
    {
     "data": {
      "text/plain": [
       "<matplotlib.axes._subplots.AxesSubplot at 0x7fdd940f7c18>"
      ]
     },
     "execution_count": 20,
     "metadata": {
      "tags": []
     },
     "output_type": "execute_result"
    },
    {
     "data": {
      "image/png": "[encoded data removed]",
      "text/plain": [
       "<Figure size 432x288 with 1 Axes>"
      ]
     },
     "metadata": {
      "tags": []
     },
     "output_type": "display_data"
    }
   ],
   "source": [
    "df_party.groupby('freq').size().plot(kind='bar')"
   ]
  },
  {
   "cell_type": "markdown",
   "metadata": {
    "colab_type": "text",
    "id": "xy8W5Ibidbor"
   },
   "source": [
    "###### **Most of the tweets are hard to identify to certain political party. Besides that, Conservative party got the highest numebr of tweets. Liberal is the second and NDP is the last one .**"
   ]
  },
  {
   "cell_type": "code",
   "execution_count": 0,
   "metadata": {
    "colab": {},
    "colab_type": "code",
    "id": "fU6Ewjo-0tV0"
   },
   "outputs": [],
   "source": [
    "# for i in range(df_ce_v.shape[0]):\n",
    "#     ps = PorterStemmer()\n",
    "#     df_ce_v[i,2] = [ps.stem(word) for word in words_rmStop0]"
   ]
  },
  {
   "cell_type": "code",
   "execution_count": 22,
   "metadata": {
    "colab": {
     "base_uri": "https://localhost:8080/",
     "height": 250
    },
    "colab_type": "code",
    "id": "h22vu0AbjHkz",
    "outputId": "1d5e7611-71ae-4b27-efd2-ab33c180a842"
   },
   "outputs": [
    {
     "data": {
      "text/plain": [
       "array([['Negative', 'Women Reproductive right and Racism',\n",
       "        list(['rosiebarton', 'so', 'instead', 'of', 'your', 'suggestion', 'how', 'about', 'we', 'agree', 'that', 'canadian', 'women', 'can', 'not', 'and', 'should', 'not', 'trust', 'that', 'andrewscheer', 'and', 'a', 'conservatives', 'government', 'will', 'protect', 'a', 'womans', 'right', 'to', 'have', 'automony', 'over', 'her', 'body', 'lets', 'go', 'with', 'that', 'cdnpoli', 'elxn43', 'canada', 'abortion'])],\n",
       "       ['Positive', nan,\n",
       "        list(['allwomanspacewalk', 'its', 'realnspacestation', 'netobicokenorth', 'cityofto', 'onpoli', 'cdnpoli', 'elxn43'])],\n",
       "       ['Negative', 'Economy',\n",
       "        list(['brantford', 'its', 'going', 'to', 'cost', 'you', '94', 'billion', 'for', 'the', 'next', '4', 'years', 'ask', 'justin', 'elxn43', 'cdnpoli', 'canada'])],\n",
       "       ...,\n",
       "       ['Positive', nan,\n",
       "        list(['your', 'daily', 'remindernthejagmeetsingh', 'endorses', 'strategic', 'votingnelxn43', 'elxn2019', 'cdnpoli', 'lpc', 'ndp', 'gpc'])],\n",
       "       ['Negative', 'Women Reproductive right and Racism',\n",
       "        list(['yupnot', 'going', 'to', 'reopen', 'the', 'abortion', 'debatexf0x9fx98x8fnelxn43', 'scheerlies', 'scheerhypocrisy'])],\n",
       "       ['Positive', nan, list(['zingnndp', 'elxn43'])]], dtype=object)"
      ]
     },
     "execution_count": 22,
     "metadata": {
      "tags": []
     },
     "output_type": "execute_result"
    }
   ],
   "source": [
    "df_ce_v"
   ]
  },
  {
   "cell_type": "code",
   "execution_count": 23,
   "metadata": {
    "colab": {
     "base_uri": "https://localhost:8080/",
     "height": 212
    },
    "colab_type": "code",
    "id": "8vj9Cg5SAzt0",
    "outputId": "639bdb81-6a24-419f-df00-87acac9a42cb"
   },
   "outputs": [
    {
     "data": {
      "text/plain": [
       "array([['Positive',\n",
       "        'rt diplomtcimmnti realdonaldtrump tri take poll number skyrocket voter matter foxnew moder â'],\n",
       "       ['Negative',\n",
       "        'chiefy74 damn im jealou wanna watch fight love ufc one know'],\n",
       "       ['Positive', 'im listen beatl theyr great'],\n",
       "       ...,\n",
       "       ['Negative', 'offthehook77 guy gonna make cri'],\n",
       "       ['Negative', 'cant sleep im sick'],\n",
       "       ['Positive',\n",
       "        'rt unitewomenorg carlyfiorina perfect gop candid great perform gopdeb 0 truth rate via politifact']],\n",
       "      dtype=object)"
      ]
     },
     "execution_count": 23,
     "metadata": {
      "tags": []
     },
     "output_type": "execute_result"
    }
   ],
   "source": [
    "# join the list of words to be a sentence in each tweet of Sentiment.csv\n",
    "for i in range(df_s_v.shape[0]):\n",
    "    df_s_v[i, 1] = \" \".join(df_s_v[i, 1])\n",
    "df_s_v"
   ]
  },
  {
   "cell_type": "code",
   "execution_count": 24,
   "metadata": {
    "colab": {
     "base_uri": "https://localhost:8080/",
     "height": 250
    },
    "colab_type": "code",
    "id": "WE40YYJC_0yC",
    "outputId": "fedcffaf-ea35-4158-ae74-e6e69e098765"
   },
   "outputs": [
    {
     "data": {
      "text/plain": [
       "array([['Negative', 'Women Reproductive right and Racism',\n",
       "        'rosiebarton so instead of your suggestion how about we agree that canadian women can not and should not trust that andrewscheer and a conservatives government will protect a womans right to have automony over her body lets go with that cdnpoli elxn43 canada abortion'],\n",
       "       ['Positive', nan,\n",
       "        'allwomanspacewalk its realnspacestation netobicokenorth cityofto onpoli cdnpoli elxn43'],\n",
       "       ['Negative', 'Economy',\n",
       "        'brantford its going to cost you 94 billion for the next 4 years ask justin elxn43 cdnpoli canada'],\n",
       "       ...,\n",
       "       ['Positive', nan,\n",
       "        'your daily remindernthejagmeetsingh endorses strategic votingnelxn43 elxn2019 cdnpoli lpc ndp gpc'],\n",
       "       ['Negative', 'Women Reproductive right and Racism',\n",
       "        'yupnot going to reopen the abortion debatexf0x9fx98x8fnelxn43 scheerlies scheerhypocrisy'],\n",
       "       ['Positive', nan, 'zingnndp elxn43']], dtype=object)"
      ]
     },
     "execution_count": 24,
     "metadata": {
      "tags": []
     },
     "output_type": "execute_result"
    }
   ],
   "source": [
    "# join the list of words to be a sentence in each tweet of Canadian elections.csv\n",
    "for i in range(df_ce_v.shape[0]):\n",
    "    df_ce_v[i, 2] = \" \".join(df_ce_v[i, 2])\n",
    "df_ce_v"
   ]
  },
  {
   "cell_type": "code",
   "execution_count": 25,
   "metadata": {
    "colab": {
     "base_uri": "https://localhost:8080/",
     "height": 406
    },
    "colab_type": "code",
    "id": "mrXqTDRvJf_D",
    "outputId": "a266f76f-e769-49e0-e391-e94a43734a8b"
   },
   "outputs": [
    {
     "data": {
      "text/html": [
       "<div>\n",
       "<style scoped>\n",
       "    .dataframe tbody tr th:only-of-type {\n",
       "        vertical-align: middle;\n",
       "    }\n",
       "\n",
       "    .dataframe tbody tr th {\n",
       "        vertical-align: top;\n",
       "    }\n",
       "\n",
       "    .dataframe thead th {\n",
       "        text-align: right;\n",
       "    }\n",
       "</style>\n",
       "<table border=\"1\" class=\"dataframe\">\n",
       "  <thead>\n",
       "    <tr style=\"text-align: right;\">\n",
       "      <th></th>\n",
       "      <th>sentiment</th>\n",
       "      <th>text</th>\n",
       "    </tr>\n",
       "  </thead>\n",
       "  <tbody>\n",
       "    <tr>\n",
       "      <th>0</th>\n",
       "      <td>Positive</td>\n",
       "      <td>rt diplomtcimmnti realdonaldtrump tri take pol...</td>\n",
       "    </tr>\n",
       "    <tr>\n",
       "      <th>1</th>\n",
       "      <td>Negative</td>\n",
       "      <td>chiefy74 damn im jealou wanna watch fight love...</td>\n",
       "    </tr>\n",
       "    <tr>\n",
       "      <th>2</th>\n",
       "      <td>Positive</td>\n",
       "      <td>im listen beatl theyr great</td>\n",
       "    </tr>\n",
       "    <tr>\n",
       "      <th>3</th>\n",
       "      <td>Positive</td>\n",
       "      <td>ddlovato could pleas get shout anyth im huge f...</td>\n",
       "    </tr>\n",
       "    <tr>\n",
       "      <th>4</th>\n",
       "      <td>Positive</td>\n",
       "      <td>salspizza spot ur messag toni repli</td>\n",
       "    </tr>\n",
       "    <tr>\n",
       "      <th>...</th>\n",
       "      <td>...</td>\n",
       "      <td>...</td>\n",
       "    </tr>\n",
       "    <tr>\n",
       "      <th>9995</th>\n",
       "      <td>Negative</td>\n",
       "      <td>rt rwsurfergirl jeb bush remind elev music hea...</td>\n",
       "    </tr>\n",
       "    <tr>\n",
       "      <th>9996</th>\n",
       "      <td>Positive</td>\n",
       "      <td>gilkisont caus ba wa chicka wa waa factor even...</td>\n",
       "    </tr>\n",
       "    <tr>\n",
       "      <th>9997</th>\n",
       "      <td>Negative</td>\n",
       "      <td>offthehook77 guy gonna make cri</td>\n",
       "    </tr>\n",
       "    <tr>\n",
       "      <th>9998</th>\n",
       "      <td>Negative</td>\n",
       "      <td>cant sleep im sick</td>\n",
       "    </tr>\n",
       "    <tr>\n",
       "      <th>9999</th>\n",
       "      <td>Positive</td>\n",
       "      <td>rt unitewomenorg carlyfiorina perfect gop cand...</td>\n",
       "    </tr>\n",
       "  </tbody>\n",
       "</table>\n",
       "<p>10000 rows × 2 columns</p>\n",
       "</div>"
      ],
      "text/plain": [
       "     sentiment                                               text\n",
       "0     Positive  rt diplomtcimmnti realdonaldtrump tri take pol...\n",
       "1     Negative  chiefy74 damn im jealou wanna watch fight love...\n",
       "2     Positive                        im listen beatl theyr great\n",
       "3     Positive  ddlovato could pleas get shout anyth im huge f...\n",
       "4     Positive                salspizza spot ur messag toni repli\n",
       "...        ...                                                ...\n",
       "9995  Negative  rt rwsurfergirl jeb bush remind elev music hea...\n",
       "9996  Positive  gilkisont caus ba wa chicka wa waa factor even...\n",
       "9997  Negative                    offthehook77 guy gonna make cri\n",
       "9998  Negative                                 cant sleep im sick\n",
       "9999  Positive  rt unitewomenorg carlyfiorina perfect gop cand...\n",
       "\n",
       "[10000 rows x 2 columns]"
      ]
     },
     "execution_count": 25,
     "metadata": {
      "tags": []
     },
     "output_type": "execute_result"
    }
   ],
   "source": [
    "df_s = pd.DataFrame(data = df_s_v, columns=['sentiment', 'text']) # convert to dataframe\n",
    "df_s"
   ]
  },
  {
   "cell_type": "code",
   "execution_count": 26,
   "metadata": {
    "colab": {
     "base_uri": "https://localhost:8080/",
     "height": 406
    },
    "colab_type": "code",
    "id": "OXId_mTiJ92B",
    "outputId": "1ff1d7f4-368c-453e-a652-3af90c0b179e"
   },
   "outputs": [
    {
     "data": {
      "text/html": [
       "<div>\n",
       "<style scoped>\n",
       "    .dataframe tbody tr th:only-of-type {\n",
       "        vertical-align: middle;\n",
       "    }\n",
       "\n",
       "    .dataframe tbody tr th {\n",
       "        vertical-align: top;\n",
       "    }\n",
       "\n",
       "    .dataframe thead th {\n",
       "        text-align: right;\n",
       "    }\n",
       "</style>\n",
       "<table border=\"1\" class=\"dataframe\">\n",
       "  <thead>\n",
       "    <tr style=\"text-align: right;\">\n",
       "      <th></th>\n",
       "      <th>sentiment</th>\n",
       "      <th>negative_reason</th>\n",
       "      <th>text</th>\n",
       "    </tr>\n",
       "  </thead>\n",
       "  <tbody>\n",
       "    <tr>\n",
       "      <th>0</th>\n",
       "      <td>Negative</td>\n",
       "      <td>Women Reproductive right and Racism</td>\n",
       "      <td>rosiebarton so instead of your suggestion how ...</td>\n",
       "    </tr>\n",
       "    <tr>\n",
       "      <th>1</th>\n",
       "      <td>Positive</td>\n",
       "      <td>NaN</td>\n",
       "      <td>allwomanspacewalk its realnspacestation netobi...</td>\n",
       "    </tr>\n",
       "    <tr>\n",
       "      <th>2</th>\n",
       "      <td>Negative</td>\n",
       "      <td>Economy</td>\n",
       "      <td>brantford its going to cost you 94 billion for...</td>\n",
       "    </tr>\n",
       "    <tr>\n",
       "      <th>3</th>\n",
       "      <td>Positive</td>\n",
       "      <td>NaN</td>\n",
       "      <td>canada canadaelection2019 canadavotes nelxn43 ...</td>\n",
       "    </tr>\n",
       "    <tr>\n",
       "      <th>4</th>\n",
       "      <td>Negative</td>\n",
       "      <td>Economy</td>\n",
       "      <td>canada taxpayers are sick tired of having thei...</td>\n",
       "    </tr>\n",
       "    <tr>\n",
       "      <th>...</th>\n",
       "      <td>...</td>\n",
       "      <td>...</td>\n",
       "      <td>...</td>\n",
       "    </tr>\n",
       "    <tr>\n",
       "      <th>2128</th>\n",
       "      <td>Negative</td>\n",
       "      <td>Scandal</td>\n",
       "      <td>you know he was doing a good enough job smeari...</td>\n",
       "    </tr>\n",
       "    <tr>\n",
       "      <th>2129</th>\n",
       "      <td>Negative</td>\n",
       "      <td>Scandal</td>\n",
       "      <td>you missed the comment deflecting the issue do...</td>\n",
       "    </tr>\n",
       "    <tr>\n",
       "      <th>2130</th>\n",
       "      <td>Positive</td>\n",
       "      <td>NaN</td>\n",
       "      <td>your daily remindernthejagmeetsingh endorses s...</td>\n",
       "    </tr>\n",
       "    <tr>\n",
       "      <th>2131</th>\n",
       "      <td>Negative</td>\n",
       "      <td>Women Reproductive right and Racism</td>\n",
       "      <td>yupnot going to reopen the abortion debatexf0x...</td>\n",
       "    </tr>\n",
       "    <tr>\n",
       "      <th>2132</th>\n",
       "      <td>Positive</td>\n",
       "      <td>NaN</td>\n",
       "      <td>zingnndp elxn43</td>\n",
       "    </tr>\n",
       "  </tbody>\n",
       "</table>\n",
       "<p>2133 rows × 3 columns</p>\n",
       "</div>"
      ],
      "text/plain": [
       "     sentiment  ...                                               text\n",
       "0     Negative  ...  rosiebarton so instead of your suggestion how ...\n",
       "1     Positive  ...  allwomanspacewalk its realnspacestation netobi...\n",
       "2     Negative  ...  brantford its going to cost you 94 billion for...\n",
       "3     Positive  ...  canada canadaelection2019 canadavotes nelxn43 ...\n",
       "4     Negative  ...  canada taxpayers are sick tired of having thei...\n",
       "...        ...  ...                                                ...\n",
       "2128  Negative  ...  you know he was doing a good enough job smeari...\n",
       "2129  Negative  ...  you missed the comment deflecting the issue do...\n",
       "2130  Positive  ...  your daily remindernthejagmeetsingh endorses s...\n",
       "2131  Negative  ...  yupnot going to reopen the abortion debatexf0x...\n",
       "2132  Positive  ...                                    zingnndp elxn43\n",
       "\n",
       "[2133 rows x 3 columns]"
      ]
     },
     "execution_count": 26,
     "metadata": {
      "tags": []
     },
     "output_type": "execute_result"
    }
   ],
   "source": [
    "df_ce = pd.DataFrame(data = df_ce_v, columns=['sentiment', 'negative_reason', 'text']) # convert to dataframe\n",
    "df_ce"
   ]
  },
  {
   "cell_type": "code",
   "execution_count": 27,
   "metadata": {
    "colab": {
     "base_uri": "https://localhost:8080/",
     "height": 406
    },
    "colab_type": "code",
    "id": "Nd2cL2u2IPXP",
    "outputId": "9a9ca0df-06db-460f-fd14-821441cd2aa5"
   },
   "outputs": [
    {
     "data": {
      "text/html": [
       "<div>\n",
       "<style scoped>\n",
       "    .dataframe tbody tr th:only-of-type {\n",
       "        vertical-align: middle;\n",
       "    }\n",
       "\n",
       "    .dataframe tbody tr th {\n",
       "        vertical-align: top;\n",
       "    }\n",
       "\n",
       "    .dataframe thead th {\n",
       "        text-align: right;\n",
       "    }\n",
       "</style>\n",
       "<table border=\"1\" class=\"dataframe\">\n",
       "  <thead>\n",
       "    <tr style=\"text-align: right;\">\n",
       "      <th></th>\n",
       "      <th>sentiment</th>\n",
       "      <th>text</th>\n",
       "      <th>sentiment_value</th>\n",
       "      <th>text_length</th>\n",
       "    </tr>\n",
       "  </thead>\n",
       "  <tbody>\n",
       "    <tr>\n",
       "      <th>0</th>\n",
       "      <td>Positive</td>\n",
       "      <td>rt diplomtcimmnti realdonaldtrump tri take pol...</td>\n",
       "      <td>1</td>\n",
       "      <td>92</td>\n",
       "    </tr>\n",
       "    <tr>\n",
       "      <th>1</th>\n",
       "      <td>Negative</td>\n",
       "      <td>chiefy74 damn im jealou wanna watch fight love...</td>\n",
       "      <td>0</td>\n",
       "      <td>59</td>\n",
       "    </tr>\n",
       "    <tr>\n",
       "      <th>2</th>\n",
       "      <td>Positive</td>\n",
       "      <td>im listen beatl theyr great</td>\n",
       "      <td>1</td>\n",
       "      <td>27</td>\n",
       "    </tr>\n",
       "    <tr>\n",
       "      <th>3</th>\n",
       "      <td>Positive</td>\n",
       "      <td>ddlovato could pleas get shout anyth im huge f...</td>\n",
       "      <td>1</td>\n",
       "      <td>65</td>\n",
       "    </tr>\n",
       "    <tr>\n",
       "      <th>4</th>\n",
       "      <td>Positive</td>\n",
       "      <td>salspizza spot ur messag toni repli</td>\n",
       "      <td>1</td>\n",
       "      <td>35</td>\n",
       "    </tr>\n",
       "    <tr>\n",
       "      <th>...</th>\n",
       "      <td>...</td>\n",
       "      <td>...</td>\n",
       "      <td>...</td>\n",
       "      <td>...</td>\n",
       "    </tr>\n",
       "    <tr>\n",
       "      <th>9995</th>\n",
       "      <td>Negative</td>\n",
       "      <td>rt rwsurfergirl jeb bush remind elev music hea...</td>\n",
       "      <td>0</td>\n",
       "      <td>80</td>\n",
       "    </tr>\n",
       "    <tr>\n",
       "      <th>9996</th>\n",
       "      <td>Positive</td>\n",
       "      <td>gilkisont caus ba wa chicka wa waa factor even...</td>\n",
       "      <td>1</td>\n",
       "      <td>58</td>\n",
       "    </tr>\n",
       "    <tr>\n",
       "      <th>9997</th>\n",
       "      <td>Negative</td>\n",
       "      <td>offthehook77 guy gonna make cri</td>\n",
       "      <td>0</td>\n",
       "      <td>31</td>\n",
       "    </tr>\n",
       "    <tr>\n",
       "      <th>9998</th>\n",
       "      <td>Negative</td>\n",
       "      <td>cant sleep im sick</td>\n",
       "      <td>0</td>\n",
       "      <td>18</td>\n",
       "    </tr>\n",
       "    <tr>\n",
       "      <th>9999</th>\n",
       "      <td>Positive</td>\n",
       "      <td>rt unitewomenorg carlyfiorina perfect gop cand...</td>\n",
       "      <td>1</td>\n",
       "      <td>97</td>\n",
       "    </tr>\n",
       "  </tbody>\n",
       "</table>\n",
       "<p>10000 rows × 4 columns</p>\n",
       "</div>"
      ],
      "text/plain": [
       "     sentiment  ... text_length\n",
       "0     Positive  ...          92\n",
       "1     Negative  ...          59\n",
       "2     Positive  ...          27\n",
       "3     Positive  ...          65\n",
       "4     Positive  ...          35\n",
       "...        ...  ...         ...\n",
       "9995  Negative  ...          80\n",
       "9996  Positive  ...          58\n",
       "9997  Negative  ...          31\n",
       "9998  Negative  ...          18\n",
       "9999  Positive  ...          97\n",
       "\n",
       "[10000 rows x 4 columns]"
      ]
     },
     "execution_count": 27,
     "metadata": {
      "tags": []
     },
     "output_type": "execute_result"
    }
   ],
   "source": [
    "df_s['sentiment_value'] = df_s['sentiment'].apply(lambda x: 1 if x == 'Positive' else 0) # add a new column that apply 1 to positive sentiment and 0 to negative sentiment.\n",
    "df_s['text_length'] = df_s['text'].apply(len) # add a new column that contain the length of text corresponding to each tweets.\n",
    "df_s"
   ]
  },
  {
   "cell_type": "code",
   "execution_count": 28,
   "metadata": {
    "colab": {
     "base_uri": "https://localhost:8080/",
     "height": 473
    },
    "colab_type": "code",
    "id": "zoe6p6BGKdwV",
    "outputId": "7d41b307-eab1-427f-b408-e3571b948d84"
   },
   "outputs": [
    {
     "data": {
      "text/html": [
       "<div>\n",
       "<style scoped>\n",
       "    .dataframe tbody tr th:only-of-type {\n",
       "        vertical-align: middle;\n",
       "    }\n",
       "\n",
       "    .dataframe tbody tr th {\n",
       "        vertical-align: top;\n",
       "    }\n",
       "\n",
       "    .dataframe thead th {\n",
       "        text-align: right;\n",
       "    }\n",
       "</style>\n",
       "<table border=\"1\" class=\"dataframe\">\n",
       "  <thead>\n",
       "    <tr style=\"text-align: right;\">\n",
       "      <th></th>\n",
       "      <th>sentiment</th>\n",
       "      <th>negative_reason</th>\n",
       "      <th>text</th>\n",
       "      <th>sentiment_value</th>\n",
       "      <th>text_length</th>\n",
       "    </tr>\n",
       "  </thead>\n",
       "  <tbody>\n",
       "    <tr>\n",
       "      <th>0</th>\n",
       "      <td>Negative</td>\n",
       "      <td>Women Reproductive right and Racism</td>\n",
       "      <td>rosiebarton so instead of your suggestion how ...</td>\n",
       "      <td>0</td>\n",
       "      <td>266</td>\n",
       "    </tr>\n",
       "    <tr>\n",
       "      <th>1</th>\n",
       "      <td>Positive</td>\n",
       "      <td>NaN</td>\n",
       "      <td>allwomanspacewalk its realnspacestation netobi...</td>\n",
       "      <td>1</td>\n",
       "      <td>86</td>\n",
       "    </tr>\n",
       "    <tr>\n",
       "      <th>2</th>\n",
       "      <td>Negative</td>\n",
       "      <td>Economy</td>\n",
       "      <td>brantford its going to cost you 94 billion for...</td>\n",
       "      <td>0</td>\n",
       "      <td>96</td>\n",
       "    </tr>\n",
       "    <tr>\n",
       "      <th>3</th>\n",
       "      <td>Positive</td>\n",
       "      <td>NaN</td>\n",
       "      <td>canada canadaelection2019 canadavotes nelxn43 ...</td>\n",
       "      <td>1</td>\n",
       "      <td>78</td>\n",
       "    </tr>\n",
       "    <tr>\n",
       "      <th>4</th>\n",
       "      <td>Negative</td>\n",
       "      <td>Economy</td>\n",
       "      <td>canada taxpayers are sick tired of having thei...</td>\n",
       "      <td>0</td>\n",
       "      <td>259</td>\n",
       "    </tr>\n",
       "    <tr>\n",
       "      <th>...</th>\n",
       "      <td>...</td>\n",
       "      <td>...</td>\n",
       "      <td>...</td>\n",
       "      <td>...</td>\n",
       "      <td>...</td>\n",
       "    </tr>\n",
       "    <tr>\n",
       "      <th>2128</th>\n",
       "      <td>Negative</td>\n",
       "      <td>Scandal</td>\n",
       "      <td>you know he was doing a good enough job smeari...</td>\n",
       "      <td>0</td>\n",
       "      <td>205</td>\n",
       "    </tr>\n",
       "    <tr>\n",
       "      <th>2129</th>\n",
       "      <td>Negative</td>\n",
       "      <td>Scandal</td>\n",
       "      <td>you missed the comment deflecting the issue do...</td>\n",
       "      <td>0</td>\n",
       "      <td>244</td>\n",
       "    </tr>\n",
       "    <tr>\n",
       "      <th>2130</th>\n",
       "      <td>Positive</td>\n",
       "      <td>NaN</td>\n",
       "      <td>your daily remindernthejagmeetsingh endorses s...</td>\n",
       "      <td>1</td>\n",
       "      <td>97</td>\n",
       "    </tr>\n",
       "    <tr>\n",
       "      <th>2131</th>\n",
       "      <td>Negative</td>\n",
       "      <td>Women Reproductive right and Racism</td>\n",
       "      <td>yupnot going to reopen the abortion debatexf0x...</td>\n",
       "      <td>0</td>\n",
       "      <td>88</td>\n",
       "    </tr>\n",
       "    <tr>\n",
       "      <th>2132</th>\n",
       "      <td>Positive</td>\n",
       "      <td>NaN</td>\n",
       "      <td>zingnndp elxn43</td>\n",
       "      <td>1</td>\n",
       "      <td>15</td>\n",
       "    </tr>\n",
       "  </tbody>\n",
       "</table>\n",
       "<p>2133 rows × 5 columns</p>\n",
       "</div>"
      ],
      "text/plain": [
       "     sentiment  ... text_length\n",
       "0     Negative  ...         266\n",
       "1     Positive  ...          86\n",
       "2     Negative  ...          96\n",
       "3     Positive  ...          78\n",
       "4     Negative  ...         259\n",
       "...        ...  ...         ...\n",
       "2128  Negative  ...         205\n",
       "2129  Negative  ...         244\n",
       "2130  Positive  ...          97\n",
       "2131  Negative  ...          88\n",
       "2132  Positive  ...          15\n",
       "\n",
       "[2133 rows x 5 columns]"
      ]
     },
     "execution_count": 28,
     "metadata": {
      "tags": []
     },
     "output_type": "execute_result"
    }
   ],
   "source": [
    "df_ce['sentiment_value'] = df_ce['sentiment'].apply(lambda x: 1 if x == 'Positive' else 0) # add a new column that apply 1 to positive sentiment and 0 to negative sentiment.\n",
    "df_ce['text_length'] = df_ce['text'].apply(len) # add a new column that contain the length of text corresponding to each tweets.\n",
    "df_ce"
   ]
  },
  {
   "cell_type": "code",
   "execution_count": 29,
   "metadata": {
    "colab": {
     "base_uri": "https://localhost:8080/",
     "height": 297
    },
    "colab_type": "code",
    "id": "bPRsl4LUKiUP",
    "outputId": "d6a99f3a-f4ac-4b5f-bc7d-4a9af8b8b70e"
   },
   "outputs": [
    {
     "data": {
      "text/plain": [
       "<matplotlib.legend.Legend at 0x7fdd941b9320>"
      ]
     },
     "execution_count": 29,
     "metadata": {
      "tags": []
     },
     "output_type": "execute_result"
    },
    {
     "data": {
      "image/png": "[encoded data removed]",
      "text/plain": [
       "<Figure size 432x288 with 1 Axes>"
      ]
     },
     "metadata": {
      "tags": []
     },
     "output_type": "display_data"
    }
   ],
   "source": [
    "sns.distplot(df_s['text_length'], label='sentiment')\n",
    "sns.distplot(df_ce['text_length'], label = 'Canadian_selection')\n",
    "plt.legend()"
   ]
  },
  {
   "cell_type": "code",
   "execution_count": 30,
   "metadata": {
    "colab": {
     "base_uri": "https://localhost:8080/",
     "height": 313
    },
    "colab_type": "code",
    "id": "LbStRH7tPcxS",
    "outputId": "a0ecc86b-675d-47c8-efbd-031cb13ab5f2"
   },
   "outputs": [
    {
     "data": {
      "text/plain": [
       "Text(0.5, 1.0, 'sentiment')"
      ]
     },
     "execution_count": 30,
     "metadata": {
      "tags": []
     },
     "output_type": "execute_result"
    },
    {
     "data": {
      "image/png": "[encoded data removed]",
      "text/plain": [
       "<Figure size 432x288 with 1 Axes>"
      ]
     },
     "metadata": {
      "tags": []
     },
     "output_type": "display_data"
    }
   ],
   "source": [
    "sns.countplot(df_s['sentiment_value'])\n",
    "plt.title(\"sentiment\")"
   ]
  },
  {
   "cell_type": "code",
   "execution_count": 31,
   "metadata": {
    "colab": {
     "base_uri": "https://localhost:8080/",
     "height": 313
    },
    "colab_type": "code",
    "id": "ZheL9o2mQBKT",
    "outputId": "72187bd4-d774-4054-f89c-a52269c64e3f"
   },
   "outputs": [
    {
     "data": {
      "text/plain": [
       "Text(0.5, 1.0, 'canadian_selection')"
      ]
     },
     "execution_count": 31,
     "metadata": {
      "tags": []
     },
     "output_type": "execute_result"
    },
    {
     "data": {
      "image/png": "[encoded data removed]",
      "text/plain": [
       "<Figure size 432x288 with 1 Axes>"
      ]
     },
     "metadata": {
      "tags": []
     },
     "output_type": "display_data"
    }
   ],
   "source": [
    "sns.countplot(df_ce['sentiment_value'])\n",
    "plt.title(\"canadian_selection\")"
   ]
  },
  {
   "cell_type": "markdown",
   "metadata": {
    "colab_type": "text",
    "id": "EYY3lGX8y22l"
   },
   "source": [
    "## **3.MODEL PREPARATION**"
   ]
  },
  {
   "cell_type": "code",
   "execution_count": 0,
   "metadata": {
    "colab": {},
    "colab_type": "code",
    "id": "rYG4eLExSMbh"
   },
   "outputs": [],
   "source": [
    "x_s = df_s.iloc[:, 1].values\n",
    "y_s = df_s.iloc[:, 2].values"
   ]
  },
  {
   "cell_type": "code",
   "execution_count": 0,
   "metadata": {
    "colab": {},
    "colab_type": "code",
    "id": "nAxLIXVnwFFP"
   },
   "outputs": [],
   "source": [
    "vectorizer = CountVectorizer()\n",
    "x_s_WF = vectorizer.fit_transform(x_s) # vectorize to word frequency (WF)\n",
    "vectorizer3 = TfidfVectorizer(use_idf=True, smooth_idf=True, norm=None)\n",
    "x_s_TFIDF = vectorizer3.fit_transform(x_s) # vectorize to TF-IDF\n",
    "x_s_WF_tra, x_s_WF_test, y_s_WF_tra, y_s_WF_test = train_test_split(x_s_WF, y_s, test_size = 0.3, random_state=42) # split data into 70% of training data and 30% of test data\n",
    "x_s_TFIDF_tra, x_s_TFIDF_test, y_s_TFIDF_tra, y_s_TFIDF_test = train_test_split(x_s_TFIDF, y_s, test_size = 0.3, random_state=42)"
   ]
  },
  {
   "cell_type": "markdown",
   "metadata": {
    "colab_type": "text",
    "id": "IwHnlpr2y90w"
   },
   "source": [
    "## **4.MODLE IMPLEMENTATION**"
   ]
  },
  {
   "cell_type": "markdown",
   "metadata": {
    "colab_type": "text",
    "id": "RhjtE9h_R_Hu"
   },
   "source": [
    "###### **logistic regression with feature TFIDF**"
   ]
  },
  {
   "cell_type": "code",
   "execution_count": 34,
   "metadata": {
    "colab": {
     "base_uri": "https://localhost:8080/",
     "height": 34
    },
    "colab_type": "code",
    "id": "elE8nRcKwdsp",
    "outputId": "e941634d-62d5-462b-98f4-9cecf9f56bbe"
   },
   "outputs": [
    {
     "name": "stdout",
     "output_type": "stream",
     "text": [
      "0.6987142857142856\n"
     ]
    }
   ],
   "source": [
    "lr = LogisticRegression(max_iter=5000)\n",
    "scores = cross_val_score(lr, x_s_TFIDF_tra, y_s_TFIDF_tra, cv=5, scoring='accuracy') # 5 fold cross validation of Logistic Regression model\n",
    "print(scores.mean())"
   ]
  },
  {
   "cell_type": "code",
   "execution_count": 35,
   "metadata": {
    "colab": {
     "base_uri": "https://localhost:8080/",
     "height": 52
    },
    "colab_type": "code",
    "id": "ImmpgMkXFXpW",
    "outputId": "ee47a24c-5b53-4a88-de5f-087ffa9fa288"
   },
   "outputs": [
    {
     "name": "stdout",
     "output_type": "stream",
     "text": [
      "Best Score:  0.7328571428571429\n",
      "Best Params:  {'C': 0.005, 'solver': 'saga'}\n"
     ]
    }
   ],
   "source": [
    "# Hyperparameters Tunning of Logistic Regression model to find out the best hyperparameters corresponding to the best accuracy.\n",
    "C = [0.001, 0.005, 0.01, 0.05, 0.1, 1, 10]\n",
    "solver = ['liblinear', 'saga', 'newton-cg', 'lbfgs','saga']\n",
    "param_grid = dict(C=C,\n",
    "                  solver=solver)\n",
    "grid = GridSearchCV(estimator=lr,\n",
    "                    param_grid=param_grid,\n",
    "                    scoring='accuracy',\n",
    "                    verbose=0,\n",
    "                    n_jobs=-1,\n",
    "                    cv=5)\n",
    "grid_result = grid.fit(x_s_TFIDF_tra, y_s_TFIDF_tra)\n",
    "\n",
    "print('Best Score: ', grid_result.best_score_)\n",
    "print('Best Params: ', grid_result.best_params_)"
   ]
  },
  {
   "cell_type": "code",
   "execution_count": 36,
   "metadata": {
    "colab": {
     "base_uri": "https://localhost:8080/",
     "height": 34
    },
    "colab_type": "code",
    "id": "r451TLM88mQt",
    "outputId": "feb4dcb0-97fc-4e85-a617-0833360ca975"
   },
   "outputs": [
    {
     "name": "stdout",
     "output_type": "stream",
     "text": [
      "Logistic regression model's accuracy on test set with optimal hyperparameters is: 72.867%\n"
     ]
    }
   ],
   "source": [
    "# Using the best hyperparameters to predict test data.\n",
    "C = 0.01\n",
    "solver = 'saga'\n",
    "lr = LogisticRegression(max_iter=5000, C=C, solver=solver)\n",
    "clf_lr = lr.fit(x_s_TFIDF_tra, y_s_TFIDF_tra)\n",
    "y_pred = clf_lr.predict(x_s_TFIDF_test)\n",
    "print (\"Logistic regression model's accuracy on test set with optimal hyperparameters is: {}%\".format(round(100 * np.mean(y_pred == y_s_TFIDF_test),3)))"
   ]
  },
  {
   "cell_type": "markdown",
   "metadata": {
    "colab_type": "text",
    "id": "jQJIC_BySIsl"
   },
   "source": [
    "###### **logistic regression with feature WF**"
   ]
  },
  {
   "cell_type": "code",
   "execution_count": 37,
   "metadata": {
    "colab": {
     "base_uri": "https://localhost:8080/",
     "height": 34
    },
    "colab_type": "code",
    "id": "-4bTpn7VR0YJ",
    "outputId": "9e9a0804-9d8e-4d1e-b15e-64b67c069afa"
   },
   "outputs": [
    {
     "name": "stdout",
     "output_type": "stream",
     "text": [
      "0.7312857142857143\n"
     ]
    }
   ],
   "source": [
    "lr = LogisticRegression(max_iter=5000)\n",
    "scores = cross_val_score(lr, x_s_WF_tra, y_s_WF_tra, cv=5, scoring='accuracy') # 5 fold cross validation of Logistic Regression model\n",
    "print(scores.mean())"
   ]
  },
  {
   "cell_type": "code",
   "execution_count": 38,
   "metadata": {
    "colab": {
     "base_uri": "https://localhost:8080/",
     "height": 52
    },
    "colab_type": "code",
    "id": "idSbEVvVR1kZ",
    "outputId": "727eaf60-8700-4347-edcd-6ec18d1636ec"
   },
   "outputs": [
    {
     "name": "stdout",
     "output_type": "stream",
     "text": [
      "Best Score:  0.7315714285714285\n",
      "Best Params:  {'C': 0.1, 'solver': 'newton-cg'}\n"
     ]
    }
   ],
   "source": [
    "# Hyperparameters Tunning of Logistic Regression model to find out the best hyperparameters corresponding to the best accuracy.\n",
    "C = [0.001, 0.005, 0.01, 0.05, 0.1, 1, 10]\n",
    "solver = ['liblinear', 'saga', 'newton-cg', 'lbfgs','saga']\n",
    "param_grid = dict(C=C,\n",
    "                  solver=solver)\n",
    "grid = GridSearchCV(estimator=lr,\n",
    "                    param_grid=param_grid,\n",
    "                    scoring='accuracy',\n",
    "                    verbose=0,\n",
    "                    n_jobs=-1,\n",
    "                    cv=5)\n",
    "grid_result = grid.fit(x_s_WF_tra, y_s_WF_tra)\n",
    "\n",
    "print('Best Score: ', grid_result.best_score_)\n",
    "print('Best Params: ', grid_result.best_params_)"
   ]
  },
  {
   "cell_type": "code",
   "execution_count": 39,
   "metadata": {
    "colab": {
     "base_uri": "https://localhost:8080/",
     "height": 34
    },
    "colab_type": "code",
    "id": "MC2iVlnsReEx",
    "outputId": "50487dad-2364-465d-9618-3dfdf75e45ab"
   },
   "outputs": [
    {
     "name": "stdout",
     "output_type": "stream",
     "text": [
      "Logistic regression model's accuracy on test set with optimal hyperparameters is: 72.733%\n"
     ]
    }
   ],
   "source": [
    "# Using the best hyperparameters to predict test data.\n",
    "C = 0.1\n",
    "solver = 'newton-cg'\n",
    "lr = LogisticRegression(max_iter=5000, C=C, solver=solver)\n",
    "clf_lr = lr.fit(x_s_WF_tra, y_s_WF_tra)\n",
    "y_pred = clf_lr.predict(x_s_WF_test)\n",
    "print (\"Logistic regression model's accuracy on test set with optimal hyperparameters is: {}%\".format(round(100 * np.mean(y_pred == y_s_TFIDF_test),3)))"
   ]
  },
  {
   "cell_type": "markdown",
   "metadata": {
    "colab_type": "text",
    "id": "DI-6UgduSNnU"
   },
   "source": [
    "###### **KNN with feature TFIDF**"
   ]
  },
  {
   "cell_type": "code",
   "execution_count": 40,
   "metadata": {
    "colab": {
     "base_uri": "https://localhost:8080/",
     "height": 34
    },
    "colab_type": "code",
    "id": "4GqlhPAD0WoD",
    "outputId": "581021a3-18ba-48be-f091-e575c35b0e22"
   },
   "outputs": [
    {
     "name": "stdout",
     "output_type": "stream",
     "text": [
      "0.5752857142857143\n"
     ]
    }
   ],
   "source": [
    "knn = KNeighborsClassifier()\n",
    "scores = cross_val_score(knn, x_s_TFIDF_tra, y_s_TFIDF_tra, cv=5, scoring='accuracy') # 5 fold cross validation of KNN model\n",
    "print(scores.mean())"
   ]
  },
  {
   "cell_type": "code",
   "execution_count": 41,
   "metadata": {
    "colab": {
     "base_uri": "https://localhost:8080/",
     "height": 107
    },
    "colab_type": "code",
    "id": "ult-KtDJH5ve",
    "outputId": "3b39d1a7-81d2-442f-f16e-171bc5408ff1"
   },
   "outputs": [
    {
     "name": "stderr",
     "output_type": "stream",
     "text": [
      "/usr/local/lib/python3.6/dist-packages/joblib/externals/loky/process_executor.py:706: UserWarning: A worker stopped while some jobs were given to the executor. This can be caused by a too short worker timeout or by a memory leak.\n",
      "  \"timeout or by a memory leak.\", UserWarning\n"
     ]
    },
    {
     "name": "stdout",
     "output_type": "stream",
     "text": [
      "Best Score:  0.6258571428571428\n",
      "Best Params:  {'n_neighbors': 8, 'p': 1}\n"
     ]
    }
   ],
   "source": [
    "# Hyperparameters Tunning of KNN model to find out the best hyperparameters corresponding to the best accuracy.\n",
    "n_neighbors = list(range(5,10))\n",
    "p=[1,2]\n",
    "param_grid = dict(n_neighbors=n_neighbors,\n",
    "                  p=p)\n",
    "grid = GridSearchCV(estimator=knn,\n",
    "                    param_grid=param_grid,\n",
    "                    scoring='accuracy',\n",
    "                    verbose=0,\n",
    "                    n_jobs=-1,\n",
    "                    cv=5)\n",
    "grid_result = grid.fit(x_s_TFIDF_tra, y_s_TFIDF_tra)\n",
    "\n",
    "print('Best Score: ', grid_result.best_score_)\n",
    "print('Best Params: ', grid_result.best_params_)"
   ]
  },
  {
   "cell_type": "code",
   "execution_count": 42,
   "metadata": {
    "colab": {
     "base_uri": "https://localhost:8080/",
     "height": 34
    },
    "colab_type": "code",
    "id": "DoLuuGGT_OEZ",
    "outputId": "f14f9b0f-a131-48df-ec64-518f5f93aedd"
   },
   "outputs": [
    {
     "name": "stdout",
     "output_type": "stream",
     "text": [
      "KNN model's accuracy on test set with optimal hyperparameters is: 61.333%\n"
     ]
    }
   ],
   "source": [
    "# Using the best hyperparameters to predict test data.\n",
    "n_neighbors = 8\n",
    "p = 1\n",
    "knn = KNeighborsClassifier(n_neighbors=n_neighbors, p=p)\n",
    "clf_knn = knn.fit(x_s_TFIDF_tra, y_s_TFIDF_tra)\n",
    "y_pred = clf_knn.predict(x_s_TFIDF_test)\n",
    "print (\"KNN model's accuracy on test set with optimal hyperparameters is: {}%\".format(round(100 * np.mean(y_pred == y_s_TFIDF_test),3)))"
   ]
  },
  {
   "cell_type": "markdown",
   "metadata": {
    "colab_type": "text",
    "id": "MM-h1GLySmOT"
   },
   "source": [
    "###### **KNN with feature WF**"
   ]
  },
  {
   "cell_type": "code",
   "execution_count": 43,
   "metadata": {
    "colab": {
     "base_uri": "https://localhost:8080/",
     "height": 34
    },
    "colab_type": "code",
    "id": "DblNEsP-SoZm",
    "outputId": "c1d25987-517c-4515-b400-4642ea27a482"
   },
   "outputs": [
    {
     "name": "stdout",
     "output_type": "stream",
     "text": [
      "0.6384285714285716\n"
     ]
    }
   ],
   "source": [
    "knn = KNeighborsClassifier()\n",
    "scores = cross_val_score(knn, x_s_WF_tra, y_s_WF_tra, cv=5, scoring='accuracy') # 5 fold cross validation of KNN model\n",
    "print(scores.mean())"
   ]
  },
  {
   "cell_type": "code",
   "execution_count": 44,
   "metadata": {
    "colab": {
     "base_uri": "https://localhost:8080/",
     "height": 52
    },
    "colab_type": "code",
    "id": "oZOLuWaPSoXE",
    "outputId": "62c89044-f7cd-473e-dbbd-5ee17599cdd9"
   },
   "outputs": [
    {
     "name": "stdout",
     "output_type": "stream",
     "text": [
      "Best Score:  0.642\n",
      "Best Params:  {'n_neighbors': 6, 'p': 1}\n"
     ]
    }
   ],
   "source": [
    "# Hyperparameters Tunning of KNN model to find out the best hyperparameters corresponding to the best accuracy.\n",
    "n_neighbors = list(range(5,10))\n",
    "p=[1,2]\n",
    "param_grid = dict(n_neighbors=n_neighbors,\n",
    "                  p=p)\n",
    "grid = GridSearchCV(estimator=knn,\n",
    "                    param_grid=param_grid,\n",
    "                    scoring='accuracy',\n",
    "                    verbose=0,\n",
    "                    n_jobs=-1,\n",
    "                    cv=5)\n",
    "grid_result = grid.fit(x_s_WF_tra, y_s_WF_tra)\n",
    "\n",
    "print('Best Score: ', grid_result.best_score_)\n",
    "print('Best Params: ', grid_result.best_params_)"
   ]
  },
  {
   "cell_type": "code",
   "execution_count": 45,
   "metadata": {
    "colab": {
     "base_uri": "https://localhost:8080/",
     "height": 34
    },
    "colab_type": "code",
    "id": "KtIzhxffSoUC",
    "outputId": "33abc02a-ea05-41a2-c478-fdeeae298aaf"
   },
   "outputs": [
    {
     "name": "stdout",
     "output_type": "stream",
     "text": [
      "KNN model's accuracy on test set with optimal hyperparameters is: 62.967%\n"
     ]
    }
   ],
   "source": [
    "# Using the best hyperparameters to predict test data.\n",
    "n_neighbors = 6\n",
    "p = 1\n",
    "knn = KNeighborsClassifier(n_neighbors=n_neighbors, p=p)\n",
    "clf_knn = knn.fit(x_s_WF_tra, y_s_WF_tra)\n",
    "y_pred = clf_knn.predict(x_s_WF_test)\n",
    "print (\"KNN model's accuracy on test set with optimal hyperparameters is: {}%\".format(round(100 * np.mean(y_pred == y_s_WF_test),3)))"
   ]
  },
  {
   "cell_type": "markdown",
   "metadata": {
    "colab_type": "text",
    "id": "Doe-LPPLSQ9V"
   },
   "source": [
    "###### **SVM with feature TFIDF**"
   ]
  },
  {
   "cell_type": "code",
   "execution_count": 46,
   "metadata": {
    "colab": {
     "base_uri": "https://localhost:8080/",
     "height": 34
    },
    "colab_type": "code",
    "id": "JAy1DkPX1hwG",
    "outputId": "7b55dd62-2051-49b0-80d9-ca8b50727190"
   },
   "outputs": [
    {
     "name": "stdout",
     "output_type": "stream",
     "text": [
      "0.7264285714285714\n"
     ]
    }
   ],
   "source": [
    "svm = SVC()\n",
    "scores = cross_val_score(svm, x_s_TFIDF_tra, y_s_TFIDF_tra, cv=5, scoring='accuracy') # 5 fold cross validation of SVM model\n",
    "print(scores.mean())"
   ]
  },
  {
   "cell_type": "code",
   "execution_count": 47,
   "metadata": {
    "colab": {
     "base_uri": "https://localhost:8080/",
     "height": 52
    },
    "colab_type": "code",
    "id": "YJGezIpiKKqV",
    "outputId": "182d42f8-404d-4f26-8337-df5cbbcfc9b8"
   },
   "outputs": [
    {
     "name": "stdout",
     "output_type": "stream",
     "text": [
      "Best Score:  0.7264285714285714\n",
      "Best Params:  {'C': 1, 'gamma': 'scale', 'kernel': 'rbf'}\n"
     ]
    }
   ],
   "source": [
    "# Hyperparameters Tunning of SVM model to find out the best hyperparameters corresponding to the best accuracy.\n",
    "C = [0.001, 0.01, 0.05, 0.1, 1, 10, 100]\n",
    "gamma = [1,0.1,0.01,0.001, 'scale']\n",
    "kernel = ['rbf', 'poly', 'sigmoid']\n",
    "param_grid = dict(C=C,\n",
    "                  gamma=gamma,\n",
    "                  kernel=kernel)\n",
    "grid = GridSearchCV(estimator=svm,\n",
    "                    param_grid=param_grid,\n",
    "                    scoring='accuracy',\n",
    "                    verbose=0,\n",
    "                    n_jobs=-1,\n",
    "                    cv=5)\n",
    "grid_result = grid.fit(x_s_TFIDF_tra, y_s_TFIDF_tra)\n",
    "\n",
    "print('Best Score: ', grid_result.best_score_)\n",
    "print('Best Params: ', grid_result.best_params_)"
   ]
  },
  {
   "cell_type": "code",
   "execution_count": 48,
   "metadata": {
    "colab": {
     "base_uri": "https://localhost:8080/",
     "height": 34
    },
    "colab_type": "code",
    "id": "9NVuWLIr_e-8",
    "outputId": "54d7fe95-8329-4052-ae77-b23b3086e943"
   },
   "outputs": [
    {
     "name": "stdout",
     "output_type": "stream",
     "text": [
      "SVM model's accuracy on test set with optimal hyperparameters is: 72.3%\n"
     ]
    }
   ],
   "source": [
    "# Using the best hyperparameters to predict test data.\n",
    "C=1\n",
    "gamma='scale'\n",
    "kernel='rbf'\n",
    "svm = SVC(C=C, gamma=gamma, kernel=kernel)\n",
    "clf_svm = svm.fit(x_s_TFIDF_tra, y_s_TFIDF_tra)\n",
    "y_pred = clf_svm.predict(x_s_TFIDF_test)\n",
    "print (\"SVM model's accuracy on test set with optimal hyperparameters is: {}%\".format(round(100 * np.mean(y_pred == y_s_TFIDF_test),3)))"
   ]
  },
  {
   "cell_type": "markdown",
   "metadata": {
    "colab_type": "text",
    "id": "BjzK9WvITIqI"
   },
   "source": [
    "######**SVM with feature WF**"
   ]
  },
  {
   "cell_type": "code",
   "execution_count": 49,
   "metadata": {
    "colab": {
     "base_uri": "https://localhost:8080/",
     "height": 34
    },
    "colab_type": "code",
    "id": "60rHYkc-THug",
    "outputId": "338ec8ee-f95d-47fa-836e-07e059422a99"
   },
   "outputs": [
    {
     "name": "stdout",
     "output_type": "stream",
     "text": [
      "0.7344285714285715\n"
     ]
    }
   ],
   "source": [
    "svm = SVC()\n",
    "scores = cross_val_score(svm, x_s_WF_tra, y_s_WF_tra, cv=5, scoring='accuracy') # 5 fold cross validation of SVM model\n",
    "print(scores.mean())"
   ]
  },
  {
   "cell_type": "code",
   "execution_count": 50,
   "metadata": {
    "colab": {
     "base_uri": "https://localhost:8080/",
     "height": 52
    },
    "colab_type": "code",
    "id": "_xRTI0FtTIC0",
    "outputId": "a9ccb7c9-6ba7-4452-8991-b275d9a03aeb"
   },
   "outputs": [
    {
     "name": "stdout",
     "output_type": "stream",
     "text": [
      "Best Score:  0.735857142857143\n",
      "Best Params:  {'C': 1, 'gamma': 0.1, 'kernel': 'rbf'}\n"
     ]
    }
   ],
   "source": [
    "# Hyperparameters Tunning of SVM model to find out the best hyperparameters corresponding to the best accuracy.\n",
    "C = [0.001, 0.01, 0.05, 0.1, 1, 10, 100]\n",
    "gamma = [1,0.1,0.01,0.001, 'scale']\n",
    "kernel = ['rbf', 'poly', 'sigmoid']\n",
    "param_grid = dict(C=C,\n",
    "                  gamma=gamma,\n",
    "                  kernel=kernel)\n",
    "grid = GridSearchCV(estimator=svm,\n",
    "                    param_grid=param_grid,\n",
    "                    scoring='accuracy',\n",
    "                    verbose=0,\n",
    "                    n_jobs=-1,\n",
    "                    cv=5)\n",
    "grid_result = grid.fit(x_s_WF_tra, y_s_WF_tra)\n",
    "\n",
    "print('Best Score: ', grid_result.best_score_)\n",
    "print('Best Params: ', grid_result.best_params_)"
   ]
  },
  {
   "cell_type": "code",
   "execution_count": 51,
   "metadata": {
    "colab": {
     "base_uri": "https://localhost:8080/",
     "height": 34
    },
    "colab_type": "code",
    "id": "26nDEs66TH_R",
    "outputId": "03189de3-229e-449c-9a2c-a23dc3e792d9"
   },
   "outputs": [
    {
     "name": "stdout",
     "output_type": "stream",
     "text": [
      "SVM model's accuracy on test set with optimal hyperparameters is: 72.9%\n"
     ]
    }
   ],
   "source": [
    "# Using the best hyperparameters to predict test data.\n",
    "C=1\n",
    "gamma=0.1\n",
    "kernel='rbf'\n",
    "svm = SVC(C=C, gamma=gamma, kernel=kernel)\n",
    "clf_svm = svm.fit(x_s_WF_tra, y_s_WF_tra)\n",
    "y_pred = clf_svm.predict(x_s_WF_test)\n",
    "print (\"SVM model's accuracy on test set with optimal hyperparameters is: {}%\".format(round(100 * np.mean(y_pred == y_s_WF_test),3)))"
   ]
  },
  {
   "cell_type": "markdown",
   "metadata": {
    "colab_type": "text",
    "id": "D4x7i_45SUKe"
   },
   "source": [
    "###### **Decision Tree with feature TFIDF**"
   ]
  },
  {
   "cell_type": "code",
   "execution_count": 52,
   "metadata": {
    "colab": {
     "base_uri": "https://localhost:8080/",
     "height": 34
    },
    "colab_type": "code",
    "id": "OxpexRm22Ucd",
    "outputId": "a712dac4-4f3d-4128-8850-3340479e1618"
   },
   "outputs": [
    {
     "name": "stdout",
     "output_type": "stream",
     "text": [
      "0.6945714285714286\n"
     ]
    }
   ],
   "source": [
    "dt = DecisionTreeClassifier()\n",
    "scores = cross_val_score(dt, x_s_TFIDF_tra, y_s_TFIDF_tra, cv=5, scoring='accuracy') # 5 fold cross validation of Decision Tree model\n",
    "print(scores.mean())"
   ]
  },
  {
   "cell_type": "code",
   "execution_count": 53,
   "metadata": {
    "colab": {
     "base_uri": "https://localhost:8080/",
     "height": 52
    },
    "colab_type": "code",
    "id": "nrlakSYfKOOD",
    "outputId": "f4d3a5f7-b42c-4e88-8afc-b2700b036711"
   },
   "outputs": [
    {
     "name": "stdout",
     "output_type": "stream",
     "text": [
      "Best Score:  0.7001428571428571\n",
      "Best Params:  {'criterion': 'entropy', 'max_depth': 500}\n"
     ]
    }
   ],
   "source": [
    "# Hyperparameters Tunning of Decision Tree model to find out the best hyperparameters corresponding to the best accuracy.\n",
    "criterion = ['gini', 'entropy']\n",
    "max_depth = [100,200,500,700,1000,1500]\n",
    "param_grid = dict(criterion=criterion,\n",
    "                  max_depth=max_depth)\n",
    "grid = GridSearchCV(estimator=dt,\n",
    "                    param_grid=param_grid,\n",
    "                    scoring='accuracy',\n",
    "                    verbose=0,\n",
    "                    n_jobs=-1,\n",
    "                    cv=5)\n",
    "grid_result = grid.fit(x_s_TFIDF_tra, y_s_TFIDF_tra)\n",
    "\n",
    "print('Best Score: ', grid_result.best_score_)\n",
    "print('Best Params: ', grid_result.best_params_)"
   ]
  },
  {
   "cell_type": "code",
   "execution_count": 54,
   "metadata": {
    "colab": {
     "base_uri": "https://localhost:8080/",
     "height": 34
    },
    "colab_type": "code",
    "id": "of3589K2_zN1",
    "outputId": "f61c1def-ecce-4e0c-da48-c284d1da1570"
   },
   "outputs": [
    {
     "name": "stdout",
     "output_type": "stream",
     "text": [
      "Decision Tree model's accuracy on test set with optimal hyperparameters is: 67.767%\n"
     ]
    }
   ],
   "source": [
    "# Using the best hyperparameters to predict test data.\n",
    "criterion = 'entropy'\n",
    "max_depth = 500\n",
    "dt = DecisionTreeClassifier(criterion=criterion, max_depth=max_depth)\n",
    "clf_dt = dt.fit(x_s_TFIDF_tra, y_s_TFIDF_tra)\n",
    "y_pred = clf_dt.predict(x_s_TFIDF_test)\n",
    "print (\"Decision Tree model's accuracy on test set with optimal hyperparameters is: {}%\".format(round(100 * np.mean(y_pred == y_s_TFIDF_test),3)))"
   ]
  },
  {
   "cell_type": "markdown",
   "metadata": {
    "colab_type": "text",
    "id": "3ihgcJDjTj3U"
   },
   "source": [
    "######**Decision Tree with feature WF**"
   ]
  },
  {
   "cell_type": "code",
   "execution_count": 55,
   "metadata": {
    "colab": {
     "base_uri": "https://localhost:8080/",
     "height": 34
    },
    "colab_type": "code",
    "id": "066dZz82TqzC",
    "outputId": "a515f6eb-99a4-4f80-c9f2-e7b4ccf1421a"
   },
   "outputs": [
    {
     "name": "stdout",
     "output_type": "stream",
     "text": [
      "0.6942857142857142\n"
     ]
    }
   ],
   "source": [
    "dt = DecisionTreeClassifier()\n",
    "scores = cross_val_score(dt, x_s_WF_tra, y_s_WF_tra, cv=5, scoring='accuracy') # 5 fold cross validation of Decision Tree model\n",
    "print(scores.mean())"
   ]
  },
  {
   "cell_type": "code",
   "execution_count": 56,
   "metadata": {
    "colab": {
     "base_uri": "https://localhost:8080/",
     "height": 52
    },
    "colab_type": "code",
    "id": "qY25UuatTquN",
    "outputId": "85a4414d-ec28-471c-fa5b-0a60db6176ef"
   },
   "outputs": [
    {
     "name": "stdout",
     "output_type": "stream",
     "text": [
      "Best Score:  0.6955714285714285\n",
      "Best Params:  {'criterion': 'gini', 'max_depth': 700}\n"
     ]
    }
   ],
   "source": [
    "# Hyperparameters Tunning of Decision Tree model to find out the best hyperparameters corresponding to the best accuracy.\n",
    "criterion = ['gini', 'entropy']\n",
    "max_depth = [100,200,500,700,1000,1500]\n",
    "param_grid = dict(criterion=criterion,\n",
    "                  max_depth=max_depth)\n",
    "grid = GridSearchCV(estimator=dt,\n",
    "                    param_grid=param_grid,\n",
    "                    scoring='accuracy',\n",
    "                    verbose=0,\n",
    "                    n_jobs=-1,\n",
    "                    cv=5)\n",
    "grid_result = grid.fit(x_s_WF_tra, y_s_WF_tra)\n",
    "\n",
    "print('Best Score: ', grid_result.best_score_)\n",
    "print('Best Params: ', grid_result.best_params_)"
   ]
  },
  {
   "cell_type": "code",
   "execution_count": 57,
   "metadata": {
    "colab": {
     "base_uri": "https://localhost:8080/",
     "height": 34
    },
    "colab_type": "code",
    "id": "W0MfJxXnTqqy",
    "outputId": "ede64b5e-8214-4fd3-f0db-a055a75f30d9"
   },
   "outputs": [
    {
     "name": "stdout",
     "output_type": "stream",
     "text": [
      "Decision Tree model's accuracy on test set with optimal hyperparameters is: 68.4%\n"
     ]
    }
   ],
   "source": [
    "# Using the best hyperparameters to predict test data.\n",
    "criterion = 'gini'\n",
    "max_depth = 500\n",
    "dt = DecisionTreeClassifier(criterion=criterion, max_depth=max_depth)\n",
    "clf_dt = dt.fit(x_s_WF_tra, y_s_WF_tra)\n",
    "y_pred = clf_dt.predict(x_s_WF_test)\n",
    "print (\"Decision Tree model's accuracy on test set with optimal hyperparameters is: {}%\".format(round(100 * np.mean(y_pred == y_s_WF_test),3)))"
   ]
  },
  {
   "cell_type": "markdown",
   "metadata": {
    "colab_type": "text",
    "id": "CBNzEOd4SY5p"
   },
   "source": [
    "###### **Random Forest with feature TFIDF**"
   ]
  },
  {
   "cell_type": "code",
   "execution_count": 58,
   "metadata": {
    "colab": {
     "base_uri": "https://localhost:8080/",
     "height": 34
    },
    "colab_type": "code",
    "id": "Xzf3zDYjY1Jp",
    "outputId": "01fb701c-5eed-466b-e67c-18881995c087"
   },
   "outputs": [
    {
     "name": "stdout",
     "output_type": "stream",
     "text": [
      "0.7225714285714285\n"
     ]
    }
   ],
   "source": [
    "rf = RandomForestClassifier()\n",
    "scores = cross_val_score(rf, x_s_TFIDF_tra, y_s_TFIDF_tra, cv=5, scoring='accuracy') # 5 fold cross validation of Random Forest model\n",
    "print(scores.mean())"
   ]
  },
  {
   "cell_type": "code",
   "execution_count": 59,
   "metadata": {
    "colab": {
     "base_uri": "https://localhost:8080/",
     "height": 52
    },
    "colab_type": "code",
    "id": "cY7AB5zaKPJK",
    "outputId": "d7b07f32-2d42-4270-d844-6913c2c5e743"
   },
   "outputs": [
    {
     "name": "stdout",
     "output_type": "stream",
     "text": [
      "Best Score:  0.7285714285714285\n",
      "Best Params:  {'max_depth': 200, 'n_estimators': 200}\n"
     ]
    }
   ],
   "source": [
    "# Hyperparameters Tunning of Random Forest model to find out the best hyperparameters corresponding to the best accuracy.\n",
    "max_depth = [100,200,500,700,1000,1500]\n",
    "n_estimators = [50, 100, 150, 200]\n",
    "param_grid = dict(max_depth=max_depth,\n",
    "                  n_estimators=n_estimators)\n",
    "grid = GridSearchCV(estimator=rf,\n",
    "                    param_grid=param_grid,\n",
    "                    scoring='accuracy',\n",
    "                    verbose=0,\n",
    "                    n_jobs=-1,\n",
    "                    cv=5)\n",
    "grid_result = grid.fit(x_s_TFIDF_tra, y_s_TFIDF_tra)\n",
    "\n",
    "print('Best Score: ', grid_result.best_score_)\n",
    "print('Best Params: ', grid_result.best_params_)"
   ]
  },
  {
   "cell_type": "code",
   "execution_count": 60,
   "metadata": {
    "colab": {
     "base_uri": "https://localhost:8080/",
     "height": 34
    },
    "colab_type": "code",
    "id": "b0YciJDKAXt6",
    "outputId": "e2adc1e7-9995-411a-b41e-6bc24795a767"
   },
   "outputs": [
    {
     "name": "stdout",
     "output_type": "stream",
     "text": [
      "Random Forest model's accuracy on test set with optimal hyperparameters is: 71.567%\n"
     ]
    }
   ],
   "source": [
    "# Using the best hyperparameters to predict test data.\n",
    "n_estimators = 200\n",
    "max_depth = 500\n",
    "rf = RandomForestClassifier(n_estimators=n_estimators, max_depth=max_depth)\n",
    "clf_rf = rf.fit(x_s_TFIDF_tra, y_s_TFIDF_tra)\n",
    "y_pred = clf_rf.predict(x_s_TFIDF_test)\n",
    "print (\"Random Forest model's accuracy on test set with optimal hyperparameters is: {}%\".format(round(100 * np.mean(y_pred == y_s_TFIDF_test),3)))"
   ]
  },
  {
   "cell_type": "markdown",
   "metadata": {
    "colab_type": "text",
    "id": "pUDPgRHyT-aZ"
   },
   "source": [
    "######**Random Forest with feature WF**"
   ]
  },
  {
   "cell_type": "code",
   "execution_count": 61,
   "metadata": {
    "colab": {
     "base_uri": "https://localhost:8080/",
     "height": 34
    },
    "colab_type": "code",
    "id": "_tY7xIJUT9la",
    "outputId": "1b79c36f-428f-48ab-de68-c0568769e2bb"
   },
   "outputs": [
    {
     "name": "stdout",
     "output_type": "stream",
     "text": [
      "0.7217142857142858\n"
     ]
    }
   ],
   "source": [
    "rf = RandomForestClassifier()\n",
    "scores = cross_val_score(rf, x_s_WF_tra, y_s_WF_tra, cv=5, scoring='accuracy') # 5 fold cross validation of Random Forest model\n",
    "print(scores.mean())"
   ]
  },
  {
   "cell_type": "code",
   "execution_count": 62,
   "metadata": {
    "colab": {
     "base_uri": "https://localhost:8080/",
     "height": 52
    },
    "colab_type": "code",
    "id": "y7PdNGphT9zO",
    "outputId": "7e23a56f-9b8b-4b66-ee45-a63c85e7741a"
   },
   "outputs": [
    {
     "name": "stdout",
     "output_type": "stream",
     "text": [
      "Best Score:  0.7294285714285714\n",
      "Best Params:  {'max_depth': 200, 'n_estimators': 200}\n"
     ]
    }
   ],
   "source": [
    "# Hyperparameters Tunning of Random Forest model to find out the best hyperparameters corresponding to the best accuracy.\n",
    "max_depth = [100,200,500,700,1000,1500]\n",
    "n_estimators = [50, 100, 150, 200]\n",
    "param_grid = dict(max_depth=max_depth,\n",
    "                  n_estimators=n_estimators)\n",
    "grid = GridSearchCV(estimator=rf,\n",
    "                    param_grid=param_grid,\n",
    "                    scoring='accuracy',\n",
    "                    verbose=0,\n",
    "                    n_jobs=-1,\n",
    "                    cv=5)\n",
    "grid_result = grid.fit(x_s_WF_tra, y_s_WF_tra)\n",
    "\n",
    "print('Best Score: ', grid_result.best_score_)\n",
    "print('Best Params: ', grid_result.best_params_)"
   ]
  },
  {
   "cell_type": "code",
   "execution_count": 63,
   "metadata": {
    "colab": {
     "base_uri": "https://localhost:8080/",
     "height": 34
    },
    "colab_type": "code",
    "id": "9V-h-YpjT9wk",
    "outputId": "e625e49b-16eb-4c99-9acc-64ea6403ea2b"
   },
   "outputs": [
    {
     "name": "stdout",
     "output_type": "stream",
     "text": [
      "Random Forest model's accuracy on test set with optimal hyperparameters is: 71.833%\n"
     ]
    }
   ],
   "source": [
    "# Using the best hyperparameters to predict test data.\n",
    "n_estimators = 200\n",
    "max_depth = 200\n",
    "rf = RandomForestClassifier(n_estimators=n_estimators, max_depth=max_depth)\n",
    "clf_rf = rf.fit(x_s_WF_tra, y_s_WF_tra)\n",
    "y_pred = clf_rf.predict(x_s_WF_test)\n",
    "print (\"Random Forest model's accuracy on test set with optimal hyperparameters is: {}%\".format(round(100 * np.mean(y_pred == y_s_WF_test),3)))"
   ]
  },
  {
   "cell_type": "markdown",
   "metadata": {
    "colab_type": "text",
    "id": "UuKYL5ZxScVf"
   },
   "source": [
    "###### **Naive Bayes with feature TFIDF**"
   ]
  },
  {
   "cell_type": "code",
   "execution_count": 64,
   "metadata": {
    "colab": {
     "base_uri": "https://localhost:8080/",
     "height": 34
    },
    "colab_type": "code",
    "id": "o0lg_fPqAWUv",
    "outputId": "54b24a00-e315-49dd-fb54-ef714ea624f5"
   },
   "outputs": [
    {
     "name": "stdout",
     "output_type": "stream",
     "text": [
      "0.6865714285714286\n"
     ]
    }
   ],
   "source": [
    "nb = MultinomialNB()\n",
    "scores = cross_val_score(nb, x_s_TFIDF_tra.toarray(), y_s_TFIDF_tra, cv=5, scoring='accuracy') # 5 fold cross validation of Naive Bayes model\n",
    "print(scores.mean())"
   ]
  },
  {
   "cell_type": "code",
   "execution_count": 65,
   "metadata": {
    "colab": {
     "base_uri": "https://localhost:8080/",
     "height": 52
    },
    "colab_type": "code",
    "id": "OPpl-fnVKP-n",
    "outputId": "86bfbb83-0664-460e-f0c8-933158cc9164"
   },
   "outputs": [
    {
     "name": "stdout",
     "output_type": "stream",
     "text": [
      "Best Score:  0.719857142857143\n",
      "Best Params:  {'alpha': 30}\n"
     ]
    }
   ],
   "source": [
    "# Hyperparameters Tunning of Naive Bayes model to find out the best hyperparameters corresponding to the best accuracy.\n",
    "alpha = [50, 30, 20,10, 1, 1e-1]\n",
    "param_grid = dict(alpha=alpha)\n",
    "grid = GridSearchCV(estimator=nb,\n",
    "                    param_grid=param_grid,\n",
    "                    scoring='accuracy',\n",
    "                    verbose=0,\n",
    "                    n_jobs=-1,\n",
    "                    cv=5)\n",
    "grid_result = grid.fit(x_s_TFIDF_tra, y_s_TFIDF_tra)\n",
    "\n",
    "print('Best Score: ', grid_result.best_score_)\n",
    "print('Best Params: ', grid_result.best_params_)"
   ]
  },
  {
   "cell_type": "code",
   "execution_count": 66,
   "metadata": {
    "colab": {
     "base_uri": "https://localhost:8080/",
     "height": 34
    },
    "colab_type": "code",
    "id": "QHYErI5L8sUt",
    "outputId": "35289cfc-084b-4a31-a63f-b698b5a248ba"
   },
   "outputs": [
    {
     "name": "stdout",
     "output_type": "stream",
     "text": [
      "Multinomial Naive Bayes model's accuracy on test set with optimal hyperparameters is: 72.567%\n"
     ]
    }
   ],
   "source": [
    "# Using the best hyperparameters to predict test data.\n",
    "alpha=30\n",
    "nb = MultinomialNB(alpha=alpha)\n",
    "clf_nb = nb.fit(x_s_TFIDF_tra, y_s_TFIDF_tra)\n",
    "y_pred = clf_nb.predict(x_s_TFIDF_test)\n",
    "print (\"Multinomial Naive Bayes model's accuracy on test set with optimal hyperparameters is: {}%\".format(round(100 * np.mean(y_pred == y_s_TFIDF_test),3)))"
   ]
  },
  {
   "cell_type": "markdown",
   "metadata": {
    "colab_type": "text",
    "id": "uJpH20hIUTRh"
   },
   "source": [
    "######**Naive Bayes with feature WF**"
   ]
  },
  {
   "cell_type": "code",
   "execution_count": 67,
   "metadata": {
    "colab": {
     "base_uri": "https://localhost:8080/",
     "height": 34
    },
    "colab_type": "code",
    "id": "znTe81nrUSUp",
    "outputId": "8da98d87-6def-4b32-c2fc-9a2af5d9f101"
   },
   "outputs": [
    {
     "name": "stdout",
     "output_type": "stream",
     "text": [
      "0.7258571428571429\n"
     ]
    }
   ],
   "source": [
    "nb = MultinomialNB()\n",
    "scores = cross_val_score(nb, x_s_WF_tra.toarray(), y_s_WF_tra, cv=5, scoring='accuracy') # 5 fold cross validation of Naive Bayes model\n",
    "print(scores.mean())"
   ]
  },
  {
   "cell_type": "code",
   "execution_count": 68,
   "metadata": {
    "colab": {
     "base_uri": "https://localhost:8080/",
     "height": 52
    },
    "colab_type": "code",
    "id": "pMc6OvruUSiY",
    "outputId": "74b60154-54a0-45d6-e8b2-f5e6edee50e1"
   },
   "outputs": [
    {
     "name": "stdout",
     "output_type": "stream",
     "text": [
      "Best Score:  0.7258571428571429\n",
      "Best Params:  {'alpha': 1}\n"
     ]
    }
   ],
   "source": [
    "# Hyperparameters Tunning of Naive Bayes model to find out the best hyperparameters corresponding to the best accuracy.\n",
    "alpha = [50, 30, 20,10, 1, 1e-1]\n",
    "param_grid = dict(alpha=alpha)\n",
    "grid = GridSearchCV(estimator=nb,\n",
    "                    param_grid=param_grid,\n",
    "                    scoring='accuracy',\n",
    "                    verbose=0,\n",
    "                    n_jobs=-1,\n",
    "                    cv=5)\n",
    "grid_result = grid.fit(x_s_WF_tra, y_s_WF_tra)\n",
    "\n",
    "print('Best Score: ', grid_result.best_score_)\n",
    "print('Best Params: ', grid_result.best_params_)"
   ]
  },
  {
   "cell_type": "code",
   "execution_count": 69,
   "metadata": {
    "colab": {
     "base_uri": "https://localhost:8080/",
     "height": 34
    },
    "colab_type": "code",
    "id": "XBagFcbJUSfM",
    "outputId": "9ff38cc8-b278-475f-ee99-b7ea6e24c203"
   },
   "outputs": [
    {
     "name": "stdout",
     "output_type": "stream",
     "text": [
      "Multinomial Naive Bayes model's accuracy on test set with optimal hyperparameters is: 72.333%\n"
     ]
    }
   ],
   "source": [
    "# Using the best hyperparameters to predict test data.\n",
    "alpha=1\n",
    "nb = MultinomialNB(alpha=alpha)\n",
    "clf_nb = nb.fit(x_s_WF_tra, y_s_WF_tra)\n",
    "y_pred = clf_nb.predict(x_s_WF_test)\n",
    "print (\"Multinomial Naive Bayes model's accuracy on test set with optimal hyperparameters is: {}%\".format(round(100 * np.mean(y_pred == y_s_WF_test),3)))"
   ]
  },
  {
   "cell_type": "markdown",
   "metadata": {
    "colab_type": "text",
    "id": "98bgitd8BYF2"
   },
   "source": [
    "###### **Model with the best performance on test set is logistic regression wit feature TFIDF, accuracy is 72.867%. SVM achieves the similar performance, but it took very lone time to implement model. Therefore, Best model is logistic regression model.**"
   ]
  },
  {
   "cell_type": "markdown",
   "metadata": {
    "colab_type": "text",
    "id": "d7XciFv4i_ZG"
   },
   "source": [
    "###### **Using the best model with best performance on the 2019 Canadian elections data.**"
   ]
  },
  {
   "cell_type": "code",
   "execution_count": 0,
   "metadata": {
    "colab": {},
    "colab_type": "code",
    "id": "Hr9LHLX5BIoI"
   },
   "outputs": [],
   "source": [
    "x_ce = df_ce.iloc[:, 2].values\n",
    "y_ce = df_ce.iloc[:, 3].values\n",
    "vectorizer = CountVectorizer()\n",
    "x_ce_WF = vectorizer.fit_transform(x_ce)\n",
    "vectorizer4 = TfidfVectorizer(use_idf=True, smooth_idf=True, norm=None)\n",
    "x_ce_TFIDF = vectorizer4.fit_transform(x_ce)\n",
    "x_ce_WF_tra, x_ce_WF_test, y_ce_WF_tra, y_ce_WF_test = train_test_split(x_ce_WF, y_ce, test_size = 0.3, random_state=42)\n",
    "x_ce_TFIDF_tra, x_ce_TFIDF_test, y_ce_TFIDF_tra, y_ce_TFIDF_test = train_test_split(x_ce_TFIDF, y_ce, test_size = 0.3, random_state=42)"
   ]
  },
  {
   "cell_type": "code",
   "execution_count": 71,
   "metadata": {
    "colab": {
     "base_uri": "https://localhost:8080/",
     "height": 34
    },
    "colab_type": "code",
    "id": "AM3NQnjzDlt2",
    "outputId": "cfde278e-0f63-4852-f5ea-402ca7ed423a"
   },
   "outputs": [
    {
     "name": "stdout",
     "output_type": "stream",
     "text": [
      "Logistic regression model's accuracy on test set of Canadian Election with optimal hyperparameters is: 70.312%\n"
     ]
    }
   ],
   "source": [
    "C = 0.01\n",
    "solver = 'saga'\n",
    "lr = LogisticRegression(max_iter=10000, C=C, solver=solver)\n",
    "clf = lr.fit(x_ce_TFIDF_tra, y_ce_TFIDF_tra)\n",
    "y_pred = clf.predict(x_ce_TFIDF_test)\n",
    "print (\"Logistic regression model's accuracy on test set of Canadian Election with optimal hyperparameters is: {}%\".format(round(100 * np.mean(y_pred == y_ce_TFIDF_test),3)))"
   ]
  },
  {
   "cell_type": "code",
   "execution_count": 72,
   "metadata": {
    "colab": {
     "base_uri": "https://localhost:8080/",
     "height": 643
    },
    "colab_type": "code",
    "id": "FGT3qBoiFArC",
    "outputId": "805a130c-9fa9-40e6-9f51-5f56cfaff431"
   },
   "outputs": [
    {
     "data": {
      "text/html": [
       "<div>\n",
       "<style scoped>\n",
       "    .dataframe tbody tr th:only-of-type {\n",
       "        vertical-align: middle;\n",
       "    }\n",
       "\n",
       "    .dataframe tbody tr th {\n",
       "        vertical-align: top;\n",
       "    }\n",
       "\n",
       "    .dataframe thead th {\n",
       "        text-align: right;\n",
       "    }\n",
       "</style>\n",
       "<table border=\"1\" class=\"dataframe\">\n",
       "  <thead>\n",
       "    <tr style=\"text-align: right;\">\n",
       "      <th></th>\n",
       "      <th>sentiment</th>\n",
       "      <th>negative_reason</th>\n",
       "      <th>text</th>\n",
       "      <th>sentiment_value</th>\n",
       "      <th>text_length</th>\n",
       "      <th>Conservative</th>\n",
       "      <th>Liberal</th>\n",
       "      <th>NDP</th>\n",
       "      <th>None</th>\n",
       "    </tr>\n",
       "  </thead>\n",
       "  <tbody>\n",
       "    <tr>\n",
       "      <th>0</th>\n",
       "      <td>Negative</td>\n",
       "      <td>Women Reproductive right and Racism</td>\n",
       "      <td>rosiebarton so instead of your suggestion how ...</td>\n",
       "      <td>0</td>\n",
       "      <td>266</td>\n",
       "      <td>1</td>\n",
       "      <td>0</td>\n",
       "      <td>0</td>\n",
       "      <td>0</td>\n",
       "    </tr>\n",
       "    <tr>\n",
       "      <th>1</th>\n",
       "      <td>Positive</td>\n",
       "      <td>NaN</td>\n",
       "      <td>allwomanspacewalk its realnspacestation netobi...</td>\n",
       "      <td>1</td>\n",
       "      <td>86</td>\n",
       "      <td>0</td>\n",
       "      <td>0</td>\n",
       "      <td>0</td>\n",
       "      <td>1</td>\n",
       "    </tr>\n",
       "    <tr>\n",
       "      <th>2</th>\n",
       "      <td>Negative</td>\n",
       "      <td>Economy</td>\n",
       "      <td>brantford its going to cost you 94 billion for...</td>\n",
       "      <td>0</td>\n",
       "      <td>96</td>\n",
       "      <td>0</td>\n",
       "      <td>1</td>\n",
       "      <td>0</td>\n",
       "      <td>0</td>\n",
       "    </tr>\n",
       "    <tr>\n",
       "      <th>3</th>\n",
       "      <td>Positive</td>\n",
       "      <td>NaN</td>\n",
       "      <td>canada canadaelection2019 canadavotes nelxn43 ...</td>\n",
       "      <td>1</td>\n",
       "      <td>78</td>\n",
       "      <td>0</td>\n",
       "      <td>0</td>\n",
       "      <td>0</td>\n",
       "      <td>1</td>\n",
       "    </tr>\n",
       "    <tr>\n",
       "      <th>4</th>\n",
       "      <td>Negative</td>\n",
       "      <td>Economy</td>\n",
       "      <td>canada taxpayers are sick tired of having thei...</td>\n",
       "      <td>0</td>\n",
       "      <td>259</td>\n",
       "      <td>0</td>\n",
       "      <td>1</td>\n",
       "      <td>0</td>\n",
       "      <td>0</td>\n",
       "    </tr>\n",
       "    <tr>\n",
       "      <th>...</th>\n",
       "      <td>...</td>\n",
       "      <td>...</td>\n",
       "      <td>...</td>\n",
       "      <td>...</td>\n",
       "      <td>...</td>\n",
       "      <td>...</td>\n",
       "      <td>...</td>\n",
       "      <td>...</td>\n",
       "      <td>...</td>\n",
       "    </tr>\n",
       "    <tr>\n",
       "      <th>2128</th>\n",
       "      <td>Negative</td>\n",
       "      <td>Scandal</td>\n",
       "      <td>you know he was doing a good enough job smeari...</td>\n",
       "      <td>0</td>\n",
       "      <td>205</td>\n",
       "      <td>1</td>\n",
       "      <td>0</td>\n",
       "      <td>0</td>\n",
       "      <td>0</td>\n",
       "    </tr>\n",
       "    <tr>\n",
       "      <th>2129</th>\n",
       "      <td>Negative</td>\n",
       "      <td>Scandal</td>\n",
       "      <td>you missed the comment deflecting the issue do...</td>\n",
       "      <td>0</td>\n",
       "      <td>244</td>\n",
       "      <td>0</td>\n",
       "      <td>0</td>\n",
       "      <td>0</td>\n",
       "      <td>1</td>\n",
       "    </tr>\n",
       "    <tr>\n",
       "      <th>2130</th>\n",
       "      <td>Positive</td>\n",
       "      <td>NaN</td>\n",
       "      <td>your daily remindernthejagmeetsingh endorses s...</td>\n",
       "      <td>1</td>\n",
       "      <td>97</td>\n",
       "      <td>0</td>\n",
       "      <td>0</td>\n",
       "      <td>1</td>\n",
       "      <td>0</td>\n",
       "    </tr>\n",
       "    <tr>\n",
       "      <th>2131</th>\n",
       "      <td>Negative</td>\n",
       "      <td>Women Reproductive right and Racism</td>\n",
       "      <td>yupnot going to reopen the abortion debatexf0x...</td>\n",
       "      <td>0</td>\n",
       "      <td>88</td>\n",
       "      <td>1</td>\n",
       "      <td>0</td>\n",
       "      <td>0</td>\n",
       "      <td>0</td>\n",
       "    </tr>\n",
       "    <tr>\n",
       "      <th>2132</th>\n",
       "      <td>Positive</td>\n",
       "      <td>NaN</td>\n",
       "      <td>zingnndp elxn43</td>\n",
       "      <td>1</td>\n",
       "      <td>15</td>\n",
       "      <td>0</td>\n",
       "      <td>0</td>\n",
       "      <td>1</td>\n",
       "      <td>0</td>\n",
       "    </tr>\n",
       "  </tbody>\n",
       "</table>\n",
       "<p>2133 rows × 9 columns</p>\n",
       "</div>"
      ],
      "text/plain": [
       "     sentiment                      negative_reason  ... NDP  None\n",
       "0     Negative  Women Reproductive right and Racism  ...   0     0\n",
       "1     Positive                                  NaN  ...   0     1\n",
       "2     Negative                              Economy  ...   0     0\n",
       "3     Positive                                  NaN  ...   0     1\n",
       "4     Negative                              Economy  ...   0     0\n",
       "...        ...                                  ...  ...  ..   ...\n",
       "2128  Negative                              Scandal  ...   0     0\n",
       "2129  Negative                              Scandal  ...   0     1\n",
       "2130  Positive                                  NaN  ...   1     0\n",
       "2131  Negative  Women Reproductive right and Racism  ...   0     0\n",
       "2132  Positive                                  NaN  ...   1     0\n",
       "\n",
       "[2133 rows x 9 columns]"
      ]
     },
     "execution_count": 72,
     "metadata": {
      "tags": []
     },
     "output_type": "execute_result"
    }
   ],
   "source": [
    "# add a new feature column and assign political affiliations for each row.\n",
    "df_ce['Party'] = P\n",
    "df_ce = pd.concat([df_ce, pd.get_dummies(df_ce['Party'])],axis=1)\n",
    "df_ce.drop(['Party'],axis=1, inplace=True)\n",
    "df_ce"
   ]
  },
  {
   "cell_type": "code",
   "execution_count": 73,
   "metadata": {
    "colab": {
     "base_uri": "https://localhost:8080/",
     "height": 1000
    },
    "colab_type": "code",
    "id": "1jRyd720Kf2g",
    "outputId": "b64822af-b097-4d7e-ffa2-22063cba535f"
   },
   "outputs": [
    {
     "name": "stdout",
     "output_type": "stream",
     "text": [
      "Logistic regression model's accuracy on test set of Liberal Party with optimal hyperparameters is: 68.293%\n"
     ]
    },
    {
     "data": {
      "image/png": "[encoded data removed]",
      "text/plain": [
       "<Figure size 720x504 with 2 Axes>"
      ]
     },
     "metadata": {
      "tags": []
     },
     "output_type": "display_data"
    },
    {
     "data": {
      "image/png": "[encoded data removed]",
      "text/plain": [
       "<Figure size 432x288 with 1 Axes>"
      ]
     },
     "metadata": {
      "tags": []
     },
     "output_type": "display_data"
    },
    {
     "data": {
      "image/png": "[encoded data removed]",
      "text/plain": [
       "<Figure size 432x288 with 1 Axes>"
      ]
     },
     "metadata": {
      "tags": []
     },
     "output_type": "display_data"
    }
   ],
   "source": [
    "# Dataframe only contains Liberal party and use the model with the best performance to test it.\n",
    "ce_L = df_ce.loc[df_ce[\"Liberal\"]==1]\n",
    "x_ce_L = ce_L.iloc[:, 2].values\n",
    "y_ce_L = ce_L.iloc[:, 3].values\n",
    "vectorizer4 = TfidfVectorizer(use_idf=True, smooth_idf=True, norm=None)\n",
    "x_ce_L_TFIDF = vectorizer4.fit_transform(x_ce_L)\n",
    "x_ce_L_TFIDF_tra, x_ce_L_TFIDF_test, y_ce_L_TFIDF_tra, y_ce_L_TFIDF_test = train_test_split(x_ce_L_TFIDF, y_ce_L, test_size = 0.3, random_state=42)\n",
    "C = 0.01\n",
    "solver = 'saga'\n",
    "lr = LogisticRegression(max_iter=5000, C=C, solver=solver)\n",
    "clf = lr.fit(x_ce_L_TFIDF_tra, y_ce_L_TFIDF_tra)\n",
    "y_pred = clf.predict(x_ce_L_TFIDF_test)\n",
    "print (\"Logistic regression model's accuracy on test set of Liberal Party with optimal hyperparameters is: {}%\".format(round(100 * np.mean(y_pred == y_ce_L_TFIDF_test),3)))\n",
    "# confusion matrix\n",
    "cm = confusion_matrix(y_ce_L_TFIDF_test,y_pred)\n",
    "df_cm = pd.DataFrame(cm, index = [\"Negative\", \"Positive\"],\n",
    "                  columns = [\"Negative\", \"Positive\"])\n",
    "plt.figure(figsize = (10,7))\n",
    "sns.heatmap(df_cm, annot=True, cmap='Blues')\n",
    "plt.xlabel(\"Predict Label\")\n",
    "plt.ylabel(\"True Label\")\n",
    "plt.title(\"Liberal\")\n",
    "plt.show()\n",
    "sns.countplot(y_ce_L_TFIDF_test)\n",
    "plt.title(\"Distribution of True sentiment in Liberal\")\n",
    "plt.show()\n",
    "sns.countplot(y_pred)\n",
    "plt.title(\"Distribution of Predicted sentiment in Liberal\")\n",
    "plt.show()"
   ]
  },
  {
   "cell_type": "code",
   "execution_count": 74,
   "metadata": {
    "colab": {
     "base_uri": "https://localhost:8080/",
     "height": 1000
    },
    "colab_type": "code",
    "id": "xo-XbWtiIRiU",
    "outputId": "ccd05eab-83f7-4ed6-ab7d-930bf1f5f60c"
   },
   "outputs": [
    {
     "name": "stdout",
     "output_type": "stream",
     "text": [
      "Logistic regression model's accuracy on test set of Conservative Party with optimal hyperparameters is: 69.427%\n"
     ]
    },
    {
     "data": {
      "image/png": "[encoded data removed]",
      "text/plain": [
       "<Figure size 720x504 with 2 Axes>"
      ]
     },
     "metadata": {
      "tags": []
     },
     "output_type": "display_data"
    },
    {
     "data": {
      "image/png": "[encoded data removed]",
      "text/plain": [
       "<Figure size 432x288 with 1 Axes>"
      ]
     },
     "metadata": {
      "tags": []
     },
     "output_type": "display_data"
    },
    {
     "data": {
      "image/png": "[encoded data removed]",
      "text/plain": [
       "<Figure size 432x288 with 1 Axes>"
      ]
     },
     "metadata": {
      "tags": []
     },
     "output_type": "display_data"
    }
   ],
   "source": [
    "# Dataframe only contains Conservative party and use the model with the best performance to test it.\n",
    "ce_C = df_ce.loc[df_ce[\"Conservative\"]==1]\n",
    "x_ce_C = ce_C.iloc[:, 2].values\n",
    "y_ce_C = ce_C.iloc[:, 3].values\n",
    "vectorizer4 = TfidfVectorizer(use_idf=True, smooth_idf=True, norm=None)\n",
    "x_ce_C_TFIDF = vectorizer4.fit_transform(x_ce_C)\n",
    "x_ce_C_TFIDF_tra, x_ce_C_TFIDF_test, y_ce_C_TFIDF_tra, y_ce_C_TFIDF_test = train_test_split(x_ce_C_TFIDF, y_ce_C, test_size = 0.3, random_state=42)\n",
    "C = 0.01\n",
    "solver = 'saga'\n",
    "lr = LogisticRegression(max_iter=5000, C=C, solver=solver)\n",
    "clf = lr.fit(x_ce_C_TFIDF_tra, y_ce_C_TFIDF_tra)\n",
    "y_pred = clf.predict(x_ce_C_TFIDF_test)\n",
    "print (\"Logistic regression model's accuracy on test set of Conservative Party with optimal hyperparameters is: {}%\".format(round(100 * np.mean(y_pred == y_ce_C_TFIDF_test),3)))\n",
    "# confusion matrix\n",
    "cm = confusion_matrix(y_ce_C_TFIDF_test,y_pred)\n",
    "df_cm = pd.DataFrame(cm, index = [\"Negative\", \"Positive\"],\n",
    "                  columns = [\"Negative\", \"Positive\"])\n",
    "plt.figure(figsize = (10,7))\n",
    "sns.heatmap(df_cm, annot=True, cmap='Blues')\n",
    "plt.xlabel(\"Predict Label\")\n",
    "plt.ylabel(\"True Label\")\n",
    "plt.title(\"Conservative\")\n",
    "plt.show()\n",
    "sns.countplot(y_ce_C_TFIDF_test)\n",
    "plt.title(\"Distribution of True sentiment in Conservative Party\")\n",
    "plt.show()\n",
    "sns.countplot(y_pred)\n",
    "plt.title(\"Distribution of Predicted sentiment in Conservative Party\")\n",
    "plt.show()"
   ]
  },
  {
   "cell_type": "code",
   "execution_count": 75,
   "metadata": {
    "colab": {
     "base_uri": "https://localhost:8080/",
     "height": 1000
    },
    "colab_type": "code",
    "id": "bmU504ZgWVA1",
    "outputId": "ceef30bc-cced-40df-b0ac-9b035d0bc402"
   },
   "outputs": [
    {
     "name": "stdout",
     "output_type": "stream",
     "text": [
      "Logistic regression model's accuracy on test set of NDP with optimal hyperparameters is: 72.0%\n"
     ]
    },
    {
     "data": {
      "image/png": "[encoded data removed]",
      "text/plain": [
       "<Figure size 720x504 with 2 Axes>"
      ]
     },
     "metadata": {
      "tags": []
     },
     "output_type": "display_data"
    },
    {
     "data": {
      "image/png": "[encoded data removed]",
      "text/plain": [
       "<Figure size 432x288 with 1 Axes>"
      ]
     },
     "metadata": {
      "tags": []
     },
     "output_type": "display_data"
    },
    {
     "data": {
      "image/png": "[encoded data removed]",
      "text/plain": [
       "<Figure size 432x288 with 1 Axes>"
      ]
     },
     "metadata": {
      "tags": []
     },
     "output_type": "display_data"
    }
   ],
   "source": [
    "# Dataframe only contains NDP and use the model with the best performance to test it.\n",
    "ce_NDP = df_ce.loc[df_ce[\"NDP\"]==1]\n",
    "x_ce_NDP = ce_NDP.iloc[:, 2].values\n",
    "y_ce_NDP = ce_NDP.iloc[:, 3].values\n",
    "vectorizer4 = TfidfVectorizer(use_idf=True, smooth_idf=True, norm=None)\n",
    "x_ce_NDP_TFIDF = vectorizer4.fit_transform(x_ce_NDP)\n",
    "x_ce_NDP_TFIDF_tra, x_ce_NDP_TFIDF_test, y_ce_NDP_TFIDF_tra, y_ce_NDP_TFIDF_test = train_test_split(x_ce_NDP_TFIDF, y_ce_NDP, test_size = 0.3, random_state=42)\n",
    "C = 0.01\n",
    "solver = 'saga'\n",
    "lr = LogisticRegression(max_iter=5000, C=C, solver=solver)\n",
    "clf = lr.fit(x_ce_NDP_TFIDF_tra, y_ce_NDP_TFIDF_tra)\n",
    "y_pred = clf.predict(x_ce_NDP_TFIDF_test)\n",
    "print (\"Logistic regression model's accuracy on test set of NDP with optimal hyperparameters is: {}%\".format(round(100 * np.mean(y_pred == y_ce_NDP_TFIDF_test),3)))\n",
    "# confusion matrix\n",
    "cm = confusion_matrix(y_ce_NDP_TFIDF_test,y_pred)\n",
    "df_cm = pd.DataFrame(cm, index = [\"Negative\", \"Positive\"],\n",
    "                  columns = [\"Negative\", \"Positive\"])\n",
    "plt.figure(figsize = (10,7))\n",
    "sns.heatmap(df_cm, annot=True, cmap='Blues')\n",
    "plt.xlabel(\"Predict Label\")\n",
    "plt.ylabel(\"True Label\")\n",
    "plt.title(\"NDP\")\n",
    "plt.show()\n",
    "sns.countplot(y_ce_NDP_TFIDF_test)\n",
    "plt.title(\"Distribution of True sentiment in NDP\")\n",
    "plt.show()\n",
    "sns.countplot(y_pred)\n",
    "plt.title(\"Distribution of Predicted sentiment in NDP\")\n",
    "plt.show()"
   ]
  },
  {
   "cell_type": "markdown",
   "metadata": {
    "colab_type": "text",
    "id": "_lok-boozkZk"
   },
   "source": [
    "###### **As we can see is that, Liberal party has the much higher rate of positive sentiment(almost 50%) than Conservative Party(almost 1/3). NDP has more than 50% of postive sentiment, but the quantity is less than Liberal and Conservative Party. We know that Liberal Party win the election last year, which is match to the True sentiment of 3 Parties.**\n",
    "###### **Best model(logistic regression) achieves about 70% of each of 3 parties, which is a acceptable accuracy. and based on countplot, total number of positive sentiment and negative sentiment in True label are quite match to the predicted positive sentiment and negative snetiment.Therefore, NLP analytics based on tweets is useful for political parties during election campaigns.**"
   ]
  },
  {
   "cell_type": "markdown",
   "metadata": {
    "colab_type": "text",
    "id": "g752TCzZzZBy"
   },
   "source": [
    "#### **Implement model for negative reason.**"
   ]
  },
  {
   "cell_type": "code",
   "execution_count": 76,
   "metadata": {
    "colab": {
     "base_uri": "https://localhost:8080/",
     "height": 723
    },
    "colab_type": "code",
    "id": "WrG4_3eroBCT",
    "outputId": "84fd37d3-d899-45d2-c78a-b69e28a324b0"
   },
   "outputs": [
    {
     "data": {
      "text/html": [
       "<div>\n",
       "<style scoped>\n",
       "    .dataframe tbody tr th:only-of-type {\n",
       "        vertical-align: middle;\n",
       "    }\n",
       "\n",
       "    .dataframe tbody tr th {\n",
       "        vertical-align: top;\n",
       "    }\n",
       "\n",
       "    .dataframe thead th {\n",
       "        text-align: right;\n",
       "    }\n",
       "</style>\n",
       "<table border=\"1\" class=\"dataframe\">\n",
       "  <thead>\n",
       "    <tr style=\"text-align: right;\">\n",
       "      <th></th>\n",
       "      <th>sentiment</th>\n",
       "      <th>negative_reason</th>\n",
       "      <th>text</th>\n",
       "      <th>sentiment_value</th>\n",
       "      <th>text_length</th>\n",
       "      <th>Conservative</th>\n",
       "      <th>Liberal</th>\n",
       "      <th>NDP</th>\n",
       "      <th>None</th>\n",
       "    </tr>\n",
       "  </thead>\n",
       "  <tbody>\n",
       "    <tr>\n",
       "      <th>0</th>\n",
       "      <td>Negative</td>\n",
       "      <td>Women Reproductive right and Racism</td>\n",
       "      <td>rosiebarton so instead of your suggestion how ...</td>\n",
       "      <td>0</td>\n",
       "      <td>266</td>\n",
       "      <td>1</td>\n",
       "      <td>0</td>\n",
       "      <td>0</td>\n",
       "      <td>0</td>\n",
       "    </tr>\n",
       "    <tr>\n",
       "      <th>2</th>\n",
       "      <td>Negative</td>\n",
       "      <td>Economy</td>\n",
       "      <td>brantford its going to cost you 94 billion for...</td>\n",
       "      <td>0</td>\n",
       "      <td>96</td>\n",
       "      <td>0</td>\n",
       "      <td>1</td>\n",
       "      <td>0</td>\n",
       "      <td>0</td>\n",
       "    </tr>\n",
       "    <tr>\n",
       "      <th>4</th>\n",
       "      <td>Negative</td>\n",
       "      <td>Economy</td>\n",
       "      <td>canada taxpayers are sick tired of having thei...</td>\n",
       "      <td>0</td>\n",
       "      <td>259</td>\n",
       "      <td>0</td>\n",
       "      <td>1</td>\n",
       "      <td>0</td>\n",
       "      <td>0</td>\n",
       "    </tr>\n",
       "    <tr>\n",
       "      <th>5</th>\n",
       "      <td>Negative</td>\n",
       "      <td>Others</td>\n",
       "      <td>canadavotes2019 elxn43 cdnpoli facts blastfrom...</td>\n",
       "      <td>0</td>\n",
       "      <td>237</td>\n",
       "      <td>1</td>\n",
       "      <td>0</td>\n",
       "      <td>0</td>\n",
       "      <td>0</td>\n",
       "    </tr>\n",
       "    <tr>\n",
       "      <th>8</th>\n",
       "      <td>Negative</td>\n",
       "      <td>Others</td>\n",
       "      <td>chooseforward cdnpoli elxn43ncanada dont make ...</td>\n",
       "      <td>0</td>\n",
       "      <td>95</td>\n",
       "      <td>0</td>\n",
       "      <td>0</td>\n",
       "      <td>0</td>\n",
       "      <td>1</td>\n",
       "    </tr>\n",
       "    <tr>\n",
       "      <th>...</th>\n",
       "      <td>...</td>\n",
       "      <td>...</td>\n",
       "      <td>...</td>\n",
       "      <td>...</td>\n",
       "      <td>...</td>\n",
       "      <td>...</td>\n",
       "      <td>...</td>\n",
       "      <td>...</td>\n",
       "      <td>...</td>\n",
       "    </tr>\n",
       "    <tr>\n",
       "      <th>2125</th>\n",
       "      <td>Negative</td>\n",
       "      <td>Others</td>\n",
       "      <td>you canxe2x80x99t be a supervillain of an elec...</td>\n",
       "      <td>0</td>\n",
       "      <td>90</td>\n",
       "      <td>0</td>\n",
       "      <td>0</td>\n",
       "      <td>0</td>\n",
       "      <td>1</td>\n",
       "    </tr>\n",
       "    <tr>\n",
       "      <th>2126</th>\n",
       "      <td>Negative</td>\n",
       "      <td>Climate Problem</td>\n",
       "      <td>you care about limiting climatechange and are ...</td>\n",
       "      <td>0</td>\n",
       "      <td>247</td>\n",
       "      <td>0</td>\n",
       "      <td>0</td>\n",
       "      <td>0</td>\n",
       "      <td>1</td>\n",
       "    </tr>\n",
       "    <tr>\n",
       "      <th>2128</th>\n",
       "      <td>Negative</td>\n",
       "      <td>Scandal</td>\n",
       "      <td>you know he was doing a good enough job smeari...</td>\n",
       "      <td>0</td>\n",
       "      <td>205</td>\n",
       "      <td>1</td>\n",
       "      <td>0</td>\n",
       "      <td>0</td>\n",
       "      <td>0</td>\n",
       "    </tr>\n",
       "    <tr>\n",
       "      <th>2129</th>\n",
       "      <td>Negative</td>\n",
       "      <td>Scandal</td>\n",
       "      <td>you missed the comment deflecting the issue do...</td>\n",
       "      <td>0</td>\n",
       "      <td>244</td>\n",
       "      <td>0</td>\n",
       "      <td>0</td>\n",
       "      <td>0</td>\n",
       "      <td>1</td>\n",
       "    </tr>\n",
       "    <tr>\n",
       "      <th>2131</th>\n",
       "      <td>Negative</td>\n",
       "      <td>Women Reproductive right and Racism</td>\n",
       "      <td>yupnot going to reopen the abortion debatexf0x...</td>\n",
       "      <td>0</td>\n",
       "      <td>88</td>\n",
       "      <td>1</td>\n",
       "      <td>0</td>\n",
       "      <td>0</td>\n",
       "      <td>0</td>\n",
       "    </tr>\n",
       "  </tbody>\n",
       "</table>\n",
       "<p>1006 rows × 9 columns</p>\n",
       "</div>"
      ],
      "text/plain": [
       "     sentiment                      negative_reason  ... NDP  None\n",
       "0     Negative  Women Reproductive right and Racism  ...   0     0\n",
       "2     Negative                              Economy  ...   0     0\n",
       "4     Negative                              Economy  ...   0     0\n",
       "5     Negative                               Others  ...   0     0\n",
       "8     Negative                               Others  ...   0     1\n",
       "...        ...                                  ...  ...  ..   ...\n",
       "2125  Negative                               Others  ...   0     1\n",
       "2126  Negative                      Climate Problem  ...   0     1\n",
       "2128  Negative                              Scandal  ...   0     0\n",
       "2129  Negative                              Scandal  ...   0     1\n",
       "2131  Negative  Women Reproductive right and Racism  ...   0     0\n",
       "\n",
       "[1006 rows x 9 columns]"
      ]
     },
     "execution_count": 76,
     "metadata": {
      "tags": []
     },
     "output_type": "execute_result"
    }
   ],
   "source": [
    "df_ce_nr = df_ce.loc[df_ce[\"sentiment\"]=='Negative']\n",
    "df_ce_nr"
   ]
  },
  {
   "cell_type": "code",
   "execution_count": 77,
   "metadata": {
    "colab": {
     "base_uri": "https://localhost:8080/",
     "height": 34
    },
    "colab_type": "code",
    "id": "rvn0uRIhout1",
    "outputId": "afb74f48-1bce-44f5-b17a-126202294826"
   },
   "outputs": [
    {
     "name": "stdout",
     "output_type": "stream",
     "text": [
      "Logistic regression model's accuracy on test set of negative reason with optimal hyperparameters is: 52.318%\n"
     ]
    }
   ],
   "source": [
    "x_ce_nr = df_ce_nr.iloc[:, 2]\n",
    "y_ce_nr = df_ce_nr.iloc[:, 1]\n",
    "vectorizer4 = TfidfVectorizer(use_idf=True, smooth_idf=True, norm=None)\n",
    "x_ce_nr_TFIDF = vectorizer4.fit_transform(x_ce_nr)\n",
    "x_ce_nr_TFIDF_tra, x_ce_nr_TFIDF_test, y_ce_nr_TFIDF_tra, y_ce_nr_TFIDF_test = train_test_split(x_ce_nr_TFIDF, y_ce_nr, test_size = 0.3, random_state=42)\n",
    "lr = LogisticRegression(max_iter=5000)\n",
    "clf = lr.fit(x_ce_nr_TFIDF_tra, y_ce_nr_TFIDF_tra)\n",
    "y_pred = clf.predict(x_ce_nr_TFIDF_test)\n",
    "print (\"Logistic regression model's accuracy on test set of negative reason with optimal hyperparameters is: {}%\".format(round(100 * np.mean(y_pred == y_ce_nr_TFIDF_test),3)))"
   ]
  },
  {
   "cell_type": "code",
   "execution_count": 78,
   "metadata": {
    "colab": {
     "base_uri": "https://localhost:8080/",
     "height": 34
    },
    "colab_type": "code",
    "id": "4Dh-w_ixtehT",
    "outputId": "4fdc0fe5-8c81-461b-fdce-17c822ebe8a1"
   },
   "outputs": [
    {
     "name": "stdout",
     "output_type": "stream",
     "text": [
      "Random Forest model's accuracy on negative reason with optimal hyperparameters is: 51.987%\n"
     ]
    }
   ],
   "source": [
    "rf = RandomForestClassifier()\n",
    "clf = rf.fit(x_ce_nr_TFIDF_tra, y_ce_nr_TFIDF_tra)\n",
    "y_pred = clf.predict(x_ce_nr_TFIDF_test)\n",
    "print (\"Random Forest model's accuracy on negative reason with optimal hyperparameters is: {}%\".format(round(100 * np.mean(y_pred == y_ce_nr_TFIDF_test),3)))"
   ]
  },
  {
   "cell_type": "code",
   "execution_count": 79,
   "metadata": {
    "colab": {
     "base_uri": "https://localhost:8080/",
     "height": 34
    },
    "colab_type": "code",
    "id": "CIMZ-lPFuoOh",
    "outputId": "91fd9675-fc1d-4fff-f5c0-6ce86a654b23"
   },
   "outputs": [
    {
     "name": "stdout",
     "output_type": "stream",
     "text": [
      "SVM model's accuracy on negative reason with optimal hyperparameters is: 44.702%\n"
     ]
    }
   ],
   "source": [
    "svm = SVC()\n",
    "clf = svm.fit(x_ce_nr_TFIDF_tra, y_ce_nr_TFIDF_tra)\n",
    "y_pred = clf.predict(x_ce_nr_TFIDF_test)\n",
    "print (\"SVM model's accuracy on negative reason with optimal hyperparameters is: {}%\".format(round(100 * np.mean(y_pred == y_ce_nr_TFIDF_test),3)))"
   ]
  },
  {
   "cell_type": "markdown",
   "metadata": {
    "colab_type": "text",
    "id": "ZJ-HaW4JxJLZ"
   },
   "source": [
    "##**5.Results**\n",
    "####**5.1:Answer the research question stated above based on the outputs of your first model. Describe the results of the analysis and discuss your interpretation of the results. Explain how each party is viewed in the public eye based on the sentiment value**\n",
    "######**Liberal party has the much higher rate of positive sentiment(almost 50%) than Conservative Party(almost 1/3). NDP has more than 50% of postive sentiment, but the quantity is less than Liberal and Conservative Party. We know that Liberal Party win the election last year, which is match to the True sentiment of 3 Parties. Best model(logistic regression) achieves about 70% of each of 3 parties, which is a acceptable accuracy. and based on countplot, total number of positive sentiment and negative sentiment in True label are quite match to the predicted positive sentiment and negative snetiment.**\n",
    "####**5.2:For the second model, based on the model that worked best, provide a few reasons why your model may fail to predict the correct negative reasons.**\n",
    "######**Logistic regression works best with about 52% accuracy. Since this is a multiclass model(10 classes), it would be much harder to have to same accuracy as binary class model. Another reason is what we can see below: number of Healthcare & Healthcare and Marijuana is only 5 and 4. It might be the case that training data does not have enought data about those 2 label, and this will result in lower accuracy in prediction of those 2 labels.**"
   ]
  },
  {
   "cell_type": "markdown",
   "metadata": {
    "colab_type": "text",
    "id": "KMpJ8_mk5w9w"
   },
   "source": [
    "######**count the number of each negative reason.**"
   ]
  },
  {
   "cell_type": "code",
   "execution_count": 80,
   "metadata": {
    "colab": {
     "base_uri": "https://localhost:8080/",
     "height": 212
    },
    "colab_type": "code",
    "id": "kTVoLbKovXd-",
    "outputId": "e0a1c281-7880-41bc-9ade-e1e200813bf6"
   },
   "outputs": [
    {
     "data": {
      "text/plain": [
       "Others                                 364\n",
       "Scandal                                270\n",
       "Tell lies                              198\n",
       "Economy                                 51\n",
       "Women Reproductive right and Racism     45\n",
       "Climate Problem                         41\n",
       "Separation                              16\n",
       "Privilege                               12\n",
       "Healthcare                               5\n",
       "Healthcare and Marijuana                 4\n",
       "Name: negative_reason, dtype: int64"
      ]
     },
     "execution_count": 80,
     "metadata": {
      "tags": []
     },
     "output_type": "execute_result"
    }
   ],
   "source": [
    "df_ce_nr[\"negative_reason\"].value_counts()"
   ]
  },
  {
   "cell_type": "markdown",
   "metadata": {
    "colab_type": "text",
    "id": "mulnhrg-nA68"
   },
   "source": [
    "####**Improvement:**\n",
    "######**1.For the first model, before removing stop word, we can check whether \"not\" and some adjective like \"good\" are consecutive. If it is , we should not remove \"not\", \"not good\" will be classified as positive sentiment, which is not reasonable.**\n",
    "######**2.For the second model, We could combine similar reasons to be one reason and some reason with low quantity can be combined with label Others.**"
   ]
  },
  {
   "cell_type": "markdown",
   "metadata": {
    "colab_type": "text",
    "id": "SntbUHqgvgUI"
   },
   "source": [
    "## **Bonus**"
   ]
  },
  {
   "cell_type": "code",
   "execution_count": 83,
   "metadata": {
    "colab": {
     "base_uri": "https://localhost:8080/",
     "height": 34
    },
    "colab_type": "code",
    "id": "2XU9y4R5vjFo",
    "outputId": "fdc8c49f-5ff5-4e6f-be00-dec68d29151d"
   },
   "outputs": [
    {
     "name": "stdout",
     "output_type": "stream",
     "text": [
      "0.6864285714285714\n"
     ]
    }
   ],
   "source": [
    "from sklearn.neural_network import MLPClassifier\n",
    "mlp = MLPClassifier(max_iter=5000)\n",
    "scores = cross_val_score(mlp, x_s_TFIDF_tra, y_s_TFIDF_tra, cv=5, scoring='accuracy') # 5 fold cross validation of MLP model\n",
    "print(scores.mean())"
   ]
  },
  {
   "cell_type": "code",
   "execution_count": 84,
   "metadata": {
    "colab": {
     "base_uri": "https://localhost:8080/",
     "height": 107
    },
    "colab_type": "code",
    "id": "dvCXeSD3xXzL",
    "outputId": "1b405d9d-1c11-4f8e-b1fb-33dffe12733d"
   },
   "outputs": [
    {
     "name": "stderr",
     "output_type": "stream",
     "text": [
      "/usr/local/lib/python3.6/dist-packages/joblib/externals/loky/process_executor.py:706: UserWarning: A worker stopped while some jobs were given to the executor. This can be caused by a too short worker timeout or by a memory leak.\n",
      "  \"timeout or by a memory leak.\", UserWarning\n"
     ]
    },
    {
     "name": "stdout",
     "output_type": "stream",
     "text": [
      "Best Score:  0.7307142857142858\n",
      "Best Params:  {'alpha': 10, 'learning_rate': 'adaptive', 'solver': 'adam'}\n"
     ]
    }
   ],
   "source": [
    "# Hyperparameters Tunning of MLP model to find out the best hyperparameters corresponding to the best accuracy.\n",
    "alpha = [0.001, 0.005, 0.01, 0.05, 0.1, 1, 10]\n",
    "solver = ['lbfgs', 'sgd', 'adam']\n",
    "learning_rate = ['constant','adaptive','invscaling']\n",
    "param_grid = dict(alpha=alpha,\n",
    "                  solver=solver,\n",
    "                  learning_rate=learning_rate)\n",
    "grid = GridSearchCV(estimator=mlp,\n",
    "                    param_grid=param_grid,\n",
    "                    scoring='accuracy',\n",
    "                    verbose=0,\n",
    "                    n_jobs=-1,\n",
    "                    cv=5)\n",
    "grid_result = grid.fit(x_s_TFIDF_tra, y_s_TFIDF_tra)\n",
    "\n",
    "print('Best Score: ', grid_result.best_score_)\n",
    "print('Best Params: ', grid_result.best_params_)"
   ]
  },
  {
   "cell_type": "code",
   "execution_count": 87,
   "metadata": {
    "colab": {
     "base_uri": "https://localhost:8080/",
     "height": 34
    },
    "colab_type": "code",
    "id": "zWcDdXCexlob",
    "outputId": "d35db2e6-33c7-44b7-b7c5-e5f82272c87e"
   },
   "outputs": [
    {
     "name": "stdout",
     "output_type": "stream",
     "text": [
      "MLP model's accuracy on test set with optimal hyperparameters is: 73.067%\n"
     ]
    }
   ],
   "source": [
    "# Using the best hyperparameters to predict test data.\n",
    "alpha = 10\n",
    "learning_rate = 'adaptive'\n",
    "solver = 'adam'\n",
    "mlp = MLPClassifier(max_iter=5000, alpha=alpha, learning_rate=learning_rate, solver=solver)\n",
    "clf_mlp = mlp.fit(x_s_TFIDF_tra, y_s_TFIDF_tra)\n",
    "y_pred = clf_mlp.predict(x_s_TFIDF_test)\n",
    "print (\"MLP model's accuracy on test set with optimal hyperparameters is: {}%\".format(round(100 * np.mean(y_pred == y_s_TFIDF_test),3)))"
   ]
  },
  {
   "cell_type": "markdown",
   "metadata": {
    "colab_type": "text",
    "id": "UEQN454ay0Uc"
   },
   "source": [
    "###### **MLP achieves better performmance than previous best model!**"
   ]
  },
  {
   "cell_type": "markdown",
   "metadata": {
    "colab_type": "text",
    "id": "MegmXnfh3OLO"
   },
   "source": [
    "######**display the results of the model visually.**"
   ]
  },
  {
   "cell_type": "code",
   "execution_count": 90,
   "metadata": {
    "colab": {
     "base_uri": "https://localhost:8080/",
     "height": 445
    },
    "colab_type": "code",
    "id": "MYBdZjHExM3R",
    "outputId": "0ad3d849-82d2-40a5-ace2-591bfb207395"
   },
   "outputs": [
    {
     "data": {
      "text/plain": [
       "<matplotlib.axes._subplots.AxesSubplot at 0x7fdd93e54828>"
      ]
     },
     "execution_count": 90,
     "metadata": {
      "tags": []
     },
     "output_type": "execute_result"
    },
    {
     "data": {
      "image/png": "[encoded data removed]",
      "text/plain": [
       "<Figure size 720x504 with 2 Axes>"
      ]
     },
     "metadata": {
      "tags": []
     },
     "output_type": "display_data"
    }
   ],
   "source": [
    "cm = confusion_matrix(y_s_TFIDF_test,y_pred)\n",
    "df_cm = pd.DataFrame(cm, index = [\"Negative\", \"Positive\"],\n",
    "                  columns = [\"Negative\", \"Positive\"])\n",
    "plt.figure(figsize = (10,7))\n",
    "sns.heatmap(df_cm, annot=True, cmap='Blues')"
   ]
  },
  {
   "cell_type": "markdown",
   "metadata": {
    "colab_type": "text",
    "id": "mlii2aTU32ri"
   },
   "source": [
    "######**This is the visualization of confusion matrix, which including the how many true sentiment was correctly and incorrectly predicted for both positive and negative sentiment.**"
   ]
  },
  {
   "cell_type": "code",
   "execution_count": 0,
   "metadata": {
    "colab": {},
    "colab_type": "code",
    "id": "NmhA7JHe1Kjq"
   },
   "outputs": [],
   "source": []
  }
 ],
 "metadata": {
  "accelerator": "TPU",
  "colab": {
   "collapsed_sections": [],
   "machine_shape": "hm",
   "name": "MIE1624_A2.ipynb",
   "provenance": []
  },
  "kernelspec": {
   "display_name": "Python 3",
   "language": "python",
   "name": "python3"
  },
  "language_info": {
   "codemirror_mode": {
    "name": "ipython",
    "version": 3
   },
   "file_extension": ".py",
   "mimetype": "text/x-python",
   "name": "python",
   "nbconvert_exporter": "python",
   "pygments_lexer": "ipython3",
   "version": "3.7.3"
  }
 },
 "nbformat": 4,
 "nbformat_minor": 1
}
